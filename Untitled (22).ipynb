{
 "cells": [
  {
   "cell_type": "code",
   "execution_count": 3,
   "id": "5225f9cf",
   "metadata": {},
   "outputs": [],
   "source": [
    "# Importing libraries\n",
    "import numpy as np\n",
    "import pandas as pd\n",
    "import seaborn as sns\n",
    "import matplotlib.pyplot as plt\n",
    "import plotly.express as px\n",
    "from scipy import stats\n",
    "### To ignore warnings\n",
    "import warnings \n",
    "warnings.filterwarnings('ignore')\n",
    "  \n",
    "### Machine Learning  and supporting libraries\n",
    "from sklearn.model_selection import train_test_split\n",
    "from sklearn.preprocessing import StandardScaler\n",
    "from imblearn.under_sampling import RandomUnderSampler\n",
    "from collections import Counter\n",
    "from sklearn.linear_model import LogisticRegression\n",
    "from sklearn import svm\n",
    "from sklearn.neighbors import KNeighborsClassifier\n",
    "from sklearn.tree import DecisionTreeClassifier\n",
    "from sklearn.ensemble import RandomForestClassifier\n",
    "from xgboost import XGBClassifier\n",
    "from sklearn.metrics import confusion_matrix, accuracy_score, precision_score, recall_score, fbeta_score\n",
    "from sklearn import metrics\n",
    "from sklearn.model_selection import GridSearchCV\n"
   ]
  },
  {
   "cell_type": "code",
   "execution_count": 4,
   "id": "c133b53b",
   "metadata": {},
   "outputs": [],
   "source": [
    "credit_df = pd.read_csv('credit_record.csv')\n",
    "label_df = pd.read_csv('application_record.csv')"
   ]
  },
  {
   "cell_type": "code",
   "execution_count": 5,
   "id": "9b53413c",
   "metadata": {},
   "outputs": [
    {
     "data": {
      "text/html": [
       "<div>\n",
       "<style scoped>\n",
       "    .dataframe tbody tr th:only-of-type {\n",
       "        vertical-align: middle;\n",
       "    }\n",
       "\n",
       "    .dataframe tbody tr th {\n",
       "        vertical-align: top;\n",
       "    }\n",
       "\n",
       "    .dataframe thead th {\n",
       "        text-align: right;\n",
       "    }\n",
       "</style>\n",
       "<table border=\"1\" class=\"dataframe\">\n",
       "  <thead>\n",
       "    <tr style=\"text-align: right;\">\n",
       "      <th></th>\n",
       "      <th>ID</th>\n",
       "      <th>CODE_GENDER</th>\n",
       "      <th>FLAG_OWN_CAR</th>\n",
       "      <th>FLAG_OWN_REALTY</th>\n",
       "      <th>CNT_CHILDREN</th>\n",
       "      <th>AMT_INCOME_TOTAL</th>\n",
       "      <th>NAME_INCOME_TYPE</th>\n",
       "      <th>NAME_EDUCATION_TYPE</th>\n",
       "      <th>NAME_FAMILY_STATUS</th>\n",
       "      <th>NAME_HOUSING_TYPE</th>\n",
       "      <th>DAYS_BIRTH</th>\n",
       "      <th>DAYS_EMPLOYED</th>\n",
       "      <th>FLAG_MOBIL</th>\n",
       "      <th>FLAG_WORK_PHONE</th>\n",
       "      <th>FLAG_PHONE</th>\n",
       "      <th>FLAG_EMAIL</th>\n",
       "      <th>OCCUPATION_TYPE</th>\n",
       "      <th>CNT_FAM_MEMBERS</th>\n",
       "      <th>MONTHS_BALANCE</th>\n",
       "      <th>STATUS</th>\n",
       "    </tr>\n",
       "  </thead>\n",
       "  <tbody>\n",
       "    <tr>\n",
       "      <th>0</th>\n",
       "      <td>5008804</td>\n",
       "      <td>M</td>\n",
       "      <td>Y</td>\n",
       "      <td>Y</td>\n",
       "      <td>0</td>\n",
       "      <td>427500.0</td>\n",
       "      <td>Working</td>\n",
       "      <td>Higher education</td>\n",
       "      <td>Civil marriage</td>\n",
       "      <td>Rented apartment</td>\n",
       "      <td>-12005</td>\n",
       "      <td>-4542</td>\n",
       "      <td>1</td>\n",
       "      <td>1</td>\n",
       "      <td>0</td>\n",
       "      <td>0</td>\n",
       "      <td>NaN</td>\n",
       "      <td>2.0</td>\n",
       "      <td>0</td>\n",
       "      <td>C</td>\n",
       "    </tr>\n",
       "    <tr>\n",
       "      <th>1</th>\n",
       "      <td>5008804</td>\n",
       "      <td>M</td>\n",
       "      <td>Y</td>\n",
       "      <td>Y</td>\n",
       "      <td>0</td>\n",
       "      <td>427500.0</td>\n",
       "      <td>Working</td>\n",
       "      <td>Higher education</td>\n",
       "      <td>Civil marriage</td>\n",
       "      <td>Rented apartment</td>\n",
       "      <td>-12005</td>\n",
       "      <td>-4542</td>\n",
       "      <td>1</td>\n",
       "      <td>1</td>\n",
       "      <td>0</td>\n",
       "      <td>0</td>\n",
       "      <td>NaN</td>\n",
       "      <td>2.0</td>\n",
       "      <td>-1</td>\n",
       "      <td>C</td>\n",
       "    </tr>\n",
       "    <tr>\n",
       "      <th>2</th>\n",
       "      <td>5008804</td>\n",
       "      <td>M</td>\n",
       "      <td>Y</td>\n",
       "      <td>Y</td>\n",
       "      <td>0</td>\n",
       "      <td>427500.0</td>\n",
       "      <td>Working</td>\n",
       "      <td>Higher education</td>\n",
       "      <td>Civil marriage</td>\n",
       "      <td>Rented apartment</td>\n",
       "      <td>-12005</td>\n",
       "      <td>-4542</td>\n",
       "      <td>1</td>\n",
       "      <td>1</td>\n",
       "      <td>0</td>\n",
       "      <td>0</td>\n",
       "      <td>NaN</td>\n",
       "      <td>2.0</td>\n",
       "      <td>-2</td>\n",
       "      <td>C</td>\n",
       "    </tr>\n",
       "    <tr>\n",
       "      <th>3</th>\n",
       "      <td>5008804</td>\n",
       "      <td>M</td>\n",
       "      <td>Y</td>\n",
       "      <td>Y</td>\n",
       "      <td>0</td>\n",
       "      <td>427500.0</td>\n",
       "      <td>Working</td>\n",
       "      <td>Higher education</td>\n",
       "      <td>Civil marriage</td>\n",
       "      <td>Rented apartment</td>\n",
       "      <td>-12005</td>\n",
       "      <td>-4542</td>\n",
       "      <td>1</td>\n",
       "      <td>1</td>\n",
       "      <td>0</td>\n",
       "      <td>0</td>\n",
       "      <td>NaN</td>\n",
       "      <td>2.0</td>\n",
       "      <td>-3</td>\n",
       "      <td>C</td>\n",
       "    </tr>\n",
       "    <tr>\n",
       "      <th>4</th>\n",
       "      <td>5008804</td>\n",
       "      <td>M</td>\n",
       "      <td>Y</td>\n",
       "      <td>Y</td>\n",
       "      <td>0</td>\n",
       "      <td>427500.0</td>\n",
       "      <td>Working</td>\n",
       "      <td>Higher education</td>\n",
       "      <td>Civil marriage</td>\n",
       "      <td>Rented apartment</td>\n",
       "      <td>-12005</td>\n",
       "      <td>-4542</td>\n",
       "      <td>1</td>\n",
       "      <td>1</td>\n",
       "      <td>0</td>\n",
       "      <td>0</td>\n",
       "      <td>NaN</td>\n",
       "      <td>2.0</td>\n",
       "      <td>-4</td>\n",
       "      <td>C</td>\n",
       "    </tr>\n",
       "  </tbody>\n",
       "</table>\n",
       "</div>"
      ],
      "text/plain": [
       "        ID CODE_GENDER FLAG_OWN_CAR FLAG_OWN_REALTY  CNT_CHILDREN  \\\n",
       "0  5008804           M            Y               Y             0   \n",
       "1  5008804           M            Y               Y             0   \n",
       "2  5008804           M            Y               Y             0   \n",
       "3  5008804           M            Y               Y             0   \n",
       "4  5008804           M            Y               Y             0   \n",
       "\n",
       "   AMT_INCOME_TOTAL NAME_INCOME_TYPE NAME_EDUCATION_TYPE NAME_FAMILY_STATUS  \\\n",
       "0          427500.0          Working    Higher education     Civil marriage   \n",
       "1          427500.0          Working    Higher education     Civil marriage   \n",
       "2          427500.0          Working    Higher education     Civil marriage   \n",
       "3          427500.0          Working    Higher education     Civil marriage   \n",
       "4          427500.0          Working    Higher education     Civil marriage   \n",
       "\n",
       "  NAME_HOUSING_TYPE  DAYS_BIRTH  DAYS_EMPLOYED  FLAG_MOBIL  FLAG_WORK_PHONE  \\\n",
       "0  Rented apartment      -12005          -4542           1                1   \n",
       "1  Rented apartment      -12005          -4542           1                1   \n",
       "2  Rented apartment      -12005          -4542           1                1   \n",
       "3  Rented apartment      -12005          -4542           1                1   \n",
       "4  Rented apartment      -12005          -4542           1                1   \n",
       "\n",
       "   FLAG_PHONE  FLAG_EMAIL OCCUPATION_TYPE  CNT_FAM_MEMBERS  MONTHS_BALANCE  \\\n",
       "0           0           0             NaN              2.0               0   \n",
       "1           0           0             NaN              2.0              -1   \n",
       "2           0           0             NaN              2.0              -2   \n",
       "3           0           0             NaN              2.0              -3   \n",
       "4           0           0             NaN              2.0              -4   \n",
       "\n",
       "  STATUS  \n",
       "0      C  \n",
       "1      C  \n",
       "2      C  \n",
       "3      C  \n",
       "4      C  "
      ]
     },
     "execution_count": 5,
     "metadata": {},
     "output_type": "execute_result"
    }
   ],
   "source": [
    "df = label_df.merge(credit_df, how='inner', on=['ID'])\n",
    "df.head()"
   ]
  },
  {
   "cell_type": "code",
   "execution_count": 6,
   "id": "053c5d8c",
   "metadata": {},
   "outputs": [],
   "source": [
    "#Creating copy of data\n",
    "credit_card = df.copy()"
   ]
  },
  {
   "cell_type": "code",
   "execution_count": 7,
   "id": "43a9cad2",
   "metadata": {},
   "outputs": [
    {
     "name": "stdout",
     "output_type": "stream",
     "text": [
      "<class 'pandas.core.frame.DataFrame'>\n",
      "Int64Index: 777715 entries, 0 to 777714\n",
      "Data columns (total 20 columns):\n",
      " #   Column               Non-Null Count   Dtype  \n",
      "---  ------               --------------   -----  \n",
      " 0   ID                   777715 non-null  int64  \n",
      " 1   CODE_GENDER          777715 non-null  object \n",
      " 2   FLAG_OWN_CAR         777715 non-null  object \n",
      " 3   FLAG_OWN_REALTY      777715 non-null  object \n",
      " 4   CNT_CHILDREN         777715 non-null  int64  \n",
      " 5   AMT_INCOME_TOTAL     777715 non-null  float64\n",
      " 6   NAME_INCOME_TYPE     777715 non-null  object \n",
      " 7   NAME_EDUCATION_TYPE  777715 non-null  object \n",
      " 8   NAME_FAMILY_STATUS   777715 non-null  object \n",
      " 9   NAME_HOUSING_TYPE    777715 non-null  object \n",
      " 10  DAYS_BIRTH           777715 non-null  int64  \n",
      " 11  DAYS_EMPLOYED        777715 non-null  int64  \n",
      " 12  FLAG_MOBIL           777715 non-null  int64  \n",
      " 13  FLAG_WORK_PHONE      777715 non-null  int64  \n",
      " 14  FLAG_PHONE           777715 non-null  int64  \n",
      " 15  FLAG_EMAIL           777715 non-null  int64  \n",
      " 16  OCCUPATION_TYPE      537667 non-null  object \n",
      " 17  CNT_FAM_MEMBERS      777715 non-null  float64\n",
      " 18  MONTHS_BALANCE       777715 non-null  int64  \n",
      " 19  STATUS               777715 non-null  object \n",
      "dtypes: float64(2), int64(9), object(9)\n",
      "memory usage: 124.6+ MB\n"
     ]
    }
   ],
   "source": [
    "credit_card.info()\n"
   ]
  },
  {
   "cell_type": "code",
   "execution_count": 8,
   "id": "820726a6",
   "metadata": {},
   "outputs": [],
   "source": [
    "#Assigning index with client ID\n",
    "credit_card.index = credit_card ['ID']\n",
    "credit_card.drop('ID',axis=1,inplace=True)"
   ]
  },
  {
   "cell_type": "code",
   "execution_count": 9,
   "id": "7bcac940",
   "metadata": {},
   "outputs": [],
   "source": [
    "#Drop Duplicates\n",
    "credit_card.drop_duplicates(inplace=True)"
   ]
  },
  {
   "cell_type": "code",
   "execution_count": 10,
   "id": "1770a478",
   "metadata": {},
   "outputs": [
    {
     "data": {
      "text/html": [
       "<div>\n",
       "<style scoped>\n",
       "    .dataframe tbody tr th:only-of-type {\n",
       "        vertical-align: middle;\n",
       "    }\n",
       "\n",
       "    .dataframe tbody tr th {\n",
       "        vertical-align: top;\n",
       "    }\n",
       "\n",
       "    .dataframe thead th {\n",
       "        text-align: right;\n",
       "    }\n",
       "</style>\n",
       "<table border=\"1\" class=\"dataframe\">\n",
       "  <thead>\n",
       "    <tr style=\"text-align: right;\">\n",
       "      <th></th>\n",
       "      <th>CODE_GENDER</th>\n",
       "      <th>FLAG_OWN_CAR</th>\n",
       "      <th>FLAG_OWN_REALTY</th>\n",
       "      <th>CNT_CHILDREN</th>\n",
       "      <th>AMT_INCOME_TOTAL</th>\n",
       "      <th>NAME_INCOME_TYPE</th>\n",
       "      <th>NAME_EDUCATION_TYPE</th>\n",
       "      <th>NAME_FAMILY_STATUS</th>\n",
       "      <th>NAME_HOUSING_TYPE</th>\n",
       "      <th>DAYS_BIRTH</th>\n",
       "      <th>DAYS_EMPLOYED</th>\n",
       "      <th>FLAG_MOBIL</th>\n",
       "      <th>FLAG_WORK_PHONE</th>\n",
       "      <th>FLAG_PHONE</th>\n",
       "      <th>FLAG_EMAIL</th>\n",
       "      <th>OCCUPATION_TYPE</th>\n",
       "      <th>CNT_FAM_MEMBERS</th>\n",
       "      <th>MONTHS_BALANCE</th>\n",
       "      <th>STATUS</th>\n",
       "    </tr>\n",
       "    <tr>\n",
       "      <th>ID</th>\n",
       "      <th></th>\n",
       "      <th></th>\n",
       "      <th></th>\n",
       "      <th></th>\n",
       "      <th></th>\n",
       "      <th></th>\n",
       "      <th></th>\n",
       "      <th></th>\n",
       "      <th></th>\n",
       "      <th></th>\n",
       "      <th></th>\n",
       "      <th></th>\n",
       "      <th></th>\n",
       "      <th></th>\n",
       "      <th></th>\n",
       "      <th></th>\n",
       "      <th></th>\n",
       "      <th></th>\n",
       "      <th></th>\n",
       "    </tr>\n",
       "  </thead>\n",
       "  <tbody>\n",
       "    <tr>\n",
       "      <th>5008804</th>\n",
       "      <td>M</td>\n",
       "      <td>Y</td>\n",
       "      <td>Y</td>\n",
       "      <td>0</td>\n",
       "      <td>427500.0</td>\n",
       "      <td>Working</td>\n",
       "      <td>Higher education</td>\n",
       "      <td>Civil marriage</td>\n",
       "      <td>Rented apartment</td>\n",
       "      <td>-12005</td>\n",
       "      <td>-4542</td>\n",
       "      <td>1</td>\n",
       "      <td>1</td>\n",
       "      <td>0</td>\n",
       "      <td>0</td>\n",
       "      <td>NaN</td>\n",
       "      <td>2.0</td>\n",
       "      <td>0</td>\n",
       "      <td>C</td>\n",
       "    </tr>\n",
       "    <tr>\n",
       "      <th>5008804</th>\n",
       "      <td>M</td>\n",
       "      <td>Y</td>\n",
       "      <td>Y</td>\n",
       "      <td>0</td>\n",
       "      <td>427500.0</td>\n",
       "      <td>Working</td>\n",
       "      <td>Higher education</td>\n",
       "      <td>Civil marriage</td>\n",
       "      <td>Rented apartment</td>\n",
       "      <td>-12005</td>\n",
       "      <td>-4542</td>\n",
       "      <td>1</td>\n",
       "      <td>1</td>\n",
       "      <td>0</td>\n",
       "      <td>0</td>\n",
       "      <td>NaN</td>\n",
       "      <td>2.0</td>\n",
       "      <td>-1</td>\n",
       "      <td>C</td>\n",
       "    </tr>\n",
       "    <tr>\n",
       "      <th>5008804</th>\n",
       "      <td>M</td>\n",
       "      <td>Y</td>\n",
       "      <td>Y</td>\n",
       "      <td>0</td>\n",
       "      <td>427500.0</td>\n",
       "      <td>Working</td>\n",
       "      <td>Higher education</td>\n",
       "      <td>Civil marriage</td>\n",
       "      <td>Rented apartment</td>\n",
       "      <td>-12005</td>\n",
       "      <td>-4542</td>\n",
       "      <td>1</td>\n",
       "      <td>1</td>\n",
       "      <td>0</td>\n",
       "      <td>0</td>\n",
       "      <td>NaN</td>\n",
       "      <td>2.0</td>\n",
       "      <td>-2</td>\n",
       "      <td>C</td>\n",
       "    </tr>\n",
       "    <tr>\n",
       "      <th>5008804</th>\n",
       "      <td>M</td>\n",
       "      <td>Y</td>\n",
       "      <td>Y</td>\n",
       "      <td>0</td>\n",
       "      <td>427500.0</td>\n",
       "      <td>Working</td>\n",
       "      <td>Higher education</td>\n",
       "      <td>Civil marriage</td>\n",
       "      <td>Rented apartment</td>\n",
       "      <td>-12005</td>\n",
       "      <td>-4542</td>\n",
       "      <td>1</td>\n",
       "      <td>1</td>\n",
       "      <td>0</td>\n",
       "      <td>0</td>\n",
       "      <td>NaN</td>\n",
       "      <td>2.0</td>\n",
       "      <td>-3</td>\n",
       "      <td>C</td>\n",
       "    </tr>\n",
       "    <tr>\n",
       "      <th>5008804</th>\n",
       "      <td>M</td>\n",
       "      <td>Y</td>\n",
       "      <td>Y</td>\n",
       "      <td>0</td>\n",
       "      <td>427500.0</td>\n",
       "      <td>Working</td>\n",
       "      <td>Higher education</td>\n",
       "      <td>Civil marriage</td>\n",
       "      <td>Rented apartment</td>\n",
       "      <td>-12005</td>\n",
       "      <td>-4542</td>\n",
       "      <td>1</td>\n",
       "      <td>1</td>\n",
       "      <td>0</td>\n",
       "      <td>0</td>\n",
       "      <td>NaN</td>\n",
       "      <td>2.0</td>\n",
       "      <td>-4</td>\n",
       "      <td>C</td>\n",
       "    </tr>\n",
       "  </tbody>\n",
       "</table>\n",
       "</div>"
      ],
      "text/plain": [
       "        CODE_GENDER FLAG_OWN_CAR FLAG_OWN_REALTY  CNT_CHILDREN  \\\n",
       "ID                                                               \n",
       "5008804           M            Y               Y             0   \n",
       "5008804           M            Y               Y             0   \n",
       "5008804           M            Y               Y             0   \n",
       "5008804           M            Y               Y             0   \n",
       "5008804           M            Y               Y             0   \n",
       "\n",
       "         AMT_INCOME_TOTAL NAME_INCOME_TYPE NAME_EDUCATION_TYPE  \\\n",
       "ID                                                               \n",
       "5008804          427500.0          Working    Higher education   \n",
       "5008804          427500.0          Working    Higher education   \n",
       "5008804          427500.0          Working    Higher education   \n",
       "5008804          427500.0          Working    Higher education   \n",
       "5008804          427500.0          Working    Higher education   \n",
       "\n",
       "        NAME_FAMILY_STATUS NAME_HOUSING_TYPE  DAYS_BIRTH  DAYS_EMPLOYED  \\\n",
       "ID                                                                        \n",
       "5008804     Civil marriage  Rented apartment      -12005          -4542   \n",
       "5008804     Civil marriage  Rented apartment      -12005          -4542   \n",
       "5008804     Civil marriage  Rented apartment      -12005          -4542   \n",
       "5008804     Civil marriage  Rented apartment      -12005          -4542   \n",
       "5008804     Civil marriage  Rented apartment      -12005          -4542   \n",
       "\n",
       "         FLAG_MOBIL  FLAG_WORK_PHONE  FLAG_PHONE  FLAG_EMAIL OCCUPATION_TYPE  \\\n",
       "ID                                                                             \n",
       "5008804           1                1           0           0             NaN   \n",
       "5008804           1                1           0           0             NaN   \n",
       "5008804           1                1           0           0             NaN   \n",
       "5008804           1                1           0           0             NaN   \n",
       "5008804           1                1           0           0             NaN   \n",
       "\n",
       "         CNT_FAM_MEMBERS  MONTHS_BALANCE STATUS  \n",
       "ID                                               \n",
       "5008804              2.0               0      C  \n",
       "5008804              2.0              -1      C  \n",
       "5008804              2.0              -2      C  \n",
       "5008804              2.0              -3      C  \n",
       "5008804              2.0              -4      C  "
      ]
     },
     "execution_count": 10,
     "metadata": {},
     "output_type": "execute_result"
    }
   ],
   "source": [
    "#First five rows\n",
    "credit_card.head()"
   ]
  },
  {
   "cell_type": "code",
   "execution_count": 11,
   "id": "2253b314",
   "metadata": {},
   "outputs": [
    {
     "data": {
      "text/html": [
       "<div>\n",
       "<style scoped>\n",
       "    .dataframe tbody tr th:only-of-type {\n",
       "        vertical-align: middle;\n",
       "    }\n",
       "\n",
       "    .dataframe tbody tr th {\n",
       "        vertical-align: top;\n",
       "    }\n",
       "\n",
       "    .dataframe thead th {\n",
       "        text-align: right;\n",
       "    }\n",
       "</style>\n",
       "<table border=\"1\" class=\"dataframe\">\n",
       "  <thead>\n",
       "    <tr style=\"text-align: right;\">\n",
       "      <th></th>\n",
       "      <th>CNT_CHILDREN</th>\n",
       "      <th>AMT_INCOME_TOTAL</th>\n",
       "      <th>DAYS_BIRTH</th>\n",
       "      <th>DAYS_EMPLOYED</th>\n",
       "      <th>FLAG_MOBIL</th>\n",
       "      <th>FLAG_WORK_PHONE</th>\n",
       "      <th>FLAG_PHONE</th>\n",
       "      <th>FLAG_EMAIL</th>\n",
       "      <th>CNT_FAM_MEMBERS</th>\n",
       "      <th>MONTHS_BALANCE</th>\n",
       "    </tr>\n",
       "  </thead>\n",
       "  <tbody>\n",
       "    <tr>\n",
       "      <th>count</th>\n",
       "      <td>468925.000000</td>\n",
       "      <td>4.689250e+05</td>\n",
       "      <td>468925.000000</td>\n",
       "      <td>468925.000000</td>\n",
       "      <td>468925.0</td>\n",
       "      <td>468925.000000</td>\n",
       "      <td>468925.000000</td>\n",
       "      <td>468925.000000</td>\n",
       "      <td>468925.000000</td>\n",
       "      <td>468925.000000</td>\n",
       "    </tr>\n",
       "    <tr>\n",
       "      <th>mean</th>\n",
       "      <td>0.421415</td>\n",
       "      <td>1.858502e+05</td>\n",
       "      <td>-16158.295521</td>\n",
       "      <td>60224.031389</td>\n",
       "      <td>1.0</td>\n",
       "      <td>0.225379</td>\n",
       "      <td>0.297472</td>\n",
       "      <td>0.089230</td>\n",
       "      <td>2.197081</td>\n",
       "      <td>-20.979513</td>\n",
       "    </tr>\n",
       "    <tr>\n",
       "      <th>std</th>\n",
       "      <td>0.747775</td>\n",
       "      <td>1.009916e+05</td>\n",
       "      <td>4130.224148</td>\n",
       "      <td>138588.126971</td>\n",
       "      <td>0.0</td>\n",
       "      <td>0.417832</td>\n",
       "      <td>0.457146</td>\n",
       "      <td>0.285075</td>\n",
       "      <td>0.910155</td>\n",
       "      <td>14.680523</td>\n",
       "    </tr>\n",
       "    <tr>\n",
       "      <th>min</th>\n",
       "      <td>0.000000</td>\n",
       "      <td>2.700000e+04</td>\n",
       "      <td>-25152.000000</td>\n",
       "      <td>-15713.000000</td>\n",
       "      <td>1.0</td>\n",
       "      <td>0.000000</td>\n",
       "      <td>0.000000</td>\n",
       "      <td>0.000000</td>\n",
       "      <td>1.000000</td>\n",
       "      <td>-60.000000</td>\n",
       "    </tr>\n",
       "    <tr>\n",
       "      <th>25%</th>\n",
       "      <td>0.000000</td>\n",
       "      <td>1.215000e+05</td>\n",
       "      <td>-19584.000000</td>\n",
       "      <td>-3246.000000</td>\n",
       "      <td>1.0</td>\n",
       "      <td>0.000000</td>\n",
       "      <td>0.000000</td>\n",
       "      <td>0.000000</td>\n",
       "      <td>2.000000</td>\n",
       "      <td>-32.000000</td>\n",
       "    </tr>\n",
       "    <tr>\n",
       "      <th>50%</th>\n",
       "      <td>0.000000</td>\n",
       "      <td>1.575000e+05</td>\n",
       "      <td>-15812.000000</td>\n",
       "      <td>-1610.000000</td>\n",
       "      <td>1.0</td>\n",
       "      <td>0.000000</td>\n",
       "      <td>0.000000</td>\n",
       "      <td>0.000000</td>\n",
       "      <td>2.000000</td>\n",
       "      <td>-19.000000</td>\n",
       "    </tr>\n",
       "    <tr>\n",
       "      <th>75%</th>\n",
       "      <td>1.000000</td>\n",
       "      <td>2.250000e+05</td>\n",
       "      <td>-12724.000000</td>\n",
       "      <td>-398.000000</td>\n",
       "      <td>1.0</td>\n",
       "      <td>0.000000</td>\n",
       "      <td>1.000000</td>\n",
       "      <td>0.000000</td>\n",
       "      <td>3.000000</td>\n",
       "      <td>-8.000000</td>\n",
       "    </tr>\n",
       "    <tr>\n",
       "      <th>max</th>\n",
       "      <td>19.000000</td>\n",
       "      <td>1.575000e+06</td>\n",
       "      <td>-7489.000000</td>\n",
       "      <td>365243.000000</td>\n",
       "      <td>1.0</td>\n",
       "      <td>1.000000</td>\n",
       "      <td>1.000000</td>\n",
       "      <td>1.000000</td>\n",
       "      <td>20.000000</td>\n",
       "      <td>0.000000</td>\n",
       "    </tr>\n",
       "  </tbody>\n",
       "</table>\n",
       "</div>"
      ],
      "text/plain": [
       "        CNT_CHILDREN  AMT_INCOME_TOTAL     DAYS_BIRTH  DAYS_EMPLOYED  \\\n",
       "count  468925.000000      4.689250e+05  468925.000000  468925.000000   \n",
       "mean        0.421415      1.858502e+05  -16158.295521   60224.031389   \n",
       "std         0.747775      1.009916e+05    4130.224148  138588.126971   \n",
       "min         0.000000      2.700000e+04  -25152.000000  -15713.000000   \n",
       "25%         0.000000      1.215000e+05  -19584.000000   -3246.000000   \n",
       "50%         0.000000      1.575000e+05  -15812.000000   -1610.000000   \n",
       "75%         1.000000      2.250000e+05  -12724.000000    -398.000000   \n",
       "max        19.000000      1.575000e+06   -7489.000000  365243.000000   \n",
       "\n",
       "       FLAG_MOBIL  FLAG_WORK_PHONE     FLAG_PHONE     FLAG_EMAIL  \\\n",
       "count    468925.0    468925.000000  468925.000000  468925.000000   \n",
       "mean          1.0         0.225379       0.297472       0.089230   \n",
       "std           0.0         0.417832       0.457146       0.285075   \n",
       "min           1.0         0.000000       0.000000       0.000000   \n",
       "25%           1.0         0.000000       0.000000       0.000000   \n",
       "50%           1.0         0.000000       0.000000       0.000000   \n",
       "75%           1.0         0.000000       1.000000       0.000000   \n",
       "max           1.0         1.000000       1.000000       1.000000   \n",
       "\n",
       "       CNT_FAM_MEMBERS  MONTHS_BALANCE  \n",
       "count    468925.000000   468925.000000  \n",
       "mean          2.197081      -20.979513  \n",
       "std           0.910155       14.680523  \n",
       "min           1.000000      -60.000000  \n",
       "25%           2.000000      -32.000000  \n",
       "50%           2.000000      -19.000000  \n",
       "75%           3.000000       -8.000000  \n",
       "max          20.000000        0.000000  "
      ]
     },
     "execution_count": 11,
     "metadata": {},
     "output_type": "execute_result"
    }
   ],
   "source": [
    "#Brief description\n",
    "credit_card.describe()"
   ]
  },
  {
   "cell_type": "code",
   "execution_count": 12,
   "id": "1f68ee72",
   "metadata": {},
   "outputs": [
    {
     "name": "stdout",
     "output_type": "stream",
     "text": [
      "<class 'pandas.core.frame.DataFrame'>\n",
      "Int64Index: 468925 entries, 5008804 to 5150337\n",
      "Data columns (total 19 columns):\n",
      " #   Column               Non-Null Count   Dtype  \n",
      "---  ------               --------------   -----  \n",
      " 0   CODE_GENDER          468925 non-null  object \n",
      " 1   FLAG_OWN_CAR         468925 non-null  object \n",
      " 2   FLAG_OWN_REALTY      468925 non-null  object \n",
      " 3   CNT_CHILDREN         468925 non-null  int64  \n",
      " 4   AMT_INCOME_TOTAL     468925 non-null  float64\n",
      " 5   NAME_INCOME_TYPE     468925 non-null  object \n",
      " 6   NAME_EDUCATION_TYPE  468925 non-null  object \n",
      " 7   NAME_FAMILY_STATUS   468925 non-null  object \n",
      " 8   NAME_HOUSING_TYPE    468925 non-null  object \n",
      " 9   DAYS_BIRTH           468925 non-null  int64  \n",
      " 10  DAYS_EMPLOYED        468925 non-null  int64  \n",
      " 11  FLAG_MOBIL           468925 non-null  int64  \n",
      " 12  FLAG_WORK_PHONE      468925 non-null  int64  \n",
      " 13  FLAG_PHONE           468925 non-null  int64  \n",
      " 14  FLAG_EMAIL           468925 non-null  int64  \n",
      " 15  OCCUPATION_TYPE      324119 non-null  object \n",
      " 16  CNT_FAM_MEMBERS      468925 non-null  float64\n",
      " 17  MONTHS_BALANCE       468925 non-null  int64  \n",
      " 18  STATUS               468925 non-null  object \n",
      "dtypes: float64(2), int64(8), object(9)\n",
      "memory usage: 71.6+ MB\n"
     ]
    }
   ],
   "source": [
    "#Summary of data\n",
    "\n",
    "credit_card.info()"
   ]
  },
  {
   "cell_type": "code",
   "execution_count": null,
   "id": "c07aeede",
   "metadata": {},
   "outputs": [],
   "source": [
    "#Checking unique values\n",
    "#We want to be sure that there is no unnecesrry value present in our dataset"
   ]
  },
  {
   "cell_type": "code",
   "execution_count": 13,
   "id": "fc0dfab0",
   "metadata": {},
   "outputs": [
    {
     "name": "stdout",
     "output_type": "stream",
     "text": [
      "CODE_GENDER - ['M' 'F']\n",
      "FLAG_OWN_CAR - ['Y' 'N']\n",
      "FLAG_OWN_REALTY - ['Y' 'N']\n",
      "CNT_CHILDREN - [ 0  1  3  2  4  5 14 19  7]\n",
      "AMT_INCOME_TOTAL - [ 427500.   112500.   270000.   283500.   135000.   130500.   157500.\n",
      "  405000.   211500.   360000.   126000.   315000.   247500.   297000.\n",
      "  225000.   166500.   216000.   255150.   148500.   202500.    94500.\n",
      "  450000.   180000.    90000.   765000.   382500.   144000.   229500.\n",
      "  292500.    74250.    40500.   337500.   193500.   267750.   139500.\n",
      "   67500.   252000.   900000.   115290.   279000.    76500.   234000.\n",
      "   81000.   108000.    99000.   198000.    45000.   238500.   117000.\n",
      "  153000.  1350000.   445500.   495000.    85500.   306000.   562500.\n",
      "  189000.   328500.   310500.   540000.   171000.   675000.   121500.\n",
      "   72000.    65250.   184500.   103500.   162000.   165150.    54000.\n",
      "  243000.   256500.    33300.   697500.   101250.    58500.   110250.\n",
      "  472500.   196650.   630000.   432000.   257625.   143100.   207000.\n",
      "  288000.   131400.   720000.   261000.    99900.    38250.   175500.\n",
      "   49500.    83250.   119250.    63000.   274500.    90900.   220500.\n",
      "   47250.   585000.   139050.    33750.   145350.   173250.   531000.\n",
      "  387000.  1125000.    36000.   179100.   206100.   265500.   118350.\n",
      "  123750.   116653.5  133650.   324000.   351000.   441000.   227250.\n",
      "   51750.   517500.   396000.   810000.   178650.   165600.    69750.\n",
      "   46948.5  616500.   378000.    89550.   234135.    42300.    74061.\n",
      "  175950.   168750.   391500.   177012.   364500.   661500.   240750.\n",
      "  333000.   342000.   167400.    50850.   141750.   176400.    30150.\n",
      "  155250.   414000.    52650.   115200.    67050.   120150.   373500.\n",
      "  146250.   213750.   121900.5  231750.   346500.   191250.   132372.\n",
      "  159750.   132750.    91530.    97731.   170302.5  265581.    73575.\n",
      "  184135.5  160200.   191700.   253800.    56700.   369000.   176175.\n",
      "  134419.5  190399.5  716323.5   31500.    57150.    78750.   236250.\n",
      "  208350.    38700.   222750.    72900.    56250.    62653.5  113400.\n",
      "   92250.   607500.   215550.    44550.   161100.   122400.    60376.5\n",
      "  254700.   787500.   140400.   185400.    31950.   129150.   612000.\n",
      "   47790.    69372.   134995.5  177750.   301500.   594000.   164250.\n",
      "   60750.    45900.   171261.   128542.5  178200.    73350.   124200.\n",
      "   82350.    38025.   360450.    39600.   634500.   459000.    87750.\n",
      "  945000.   463500.   742500.   151200.   560250.    89100.   204750.\n",
      "   36900.   187650.    32400.   147150.   119700.    27000.   990000.\n",
      "   61875.   355500.    79650.    37800.   140850.   195750.    29250.\n",
      "  423000.    87448.5  326250.    31531.5  105750.   468000.    97650.\n",
      "  114750.   418500.    95850.   652500.  1575000.    74700.    62100.\n",
      "  494100.   249750.   150750.   116100.   215100.   179271. ]\n",
      "NAME_INCOME_TYPE - ['Working' 'Commercial associate' 'Pensioner' 'State servant' 'Student']\n",
      "NAME_EDUCATION_TYPE - ['Higher education' 'Secondary / secondary special' 'Incomplete higher'\n",
      " 'Lower secondary' 'Academic degree']\n",
      "NAME_FAMILY_STATUS - ['Civil marriage' 'Married' 'Single / not married' 'Separated' 'Widow']\n",
      "NAME_HOUSING_TYPE - ['Rented apartment' 'House / apartment' 'Municipal apartment'\n",
      " 'With parents' 'Co-op apartment' 'Office apartment']\n",
      "DAYS_BIRTH - [-12005 -21474 -19110 ... -21590 -15837  -9188]\n",
      "DAYS_EMPLOYED - [ -4542  -1134  -3051 ...  -8161   -606 -11272]\n",
      "FLAG_MOBIL - [1]\n",
      "FLAG_WORK_PHONE - [1 0]\n",
      "FLAG_PHONE - [0 1]\n",
      "FLAG_EMAIL - [0 1]\n",
      "OCCUPATION_TYPE - [nan 'Security staff' 'Sales staff' 'Accountants' 'Laborers' 'Managers'\n",
      " 'Drivers' 'Core staff' 'High skill tech staff' 'Cleaning staff'\n",
      " 'Private service staff' 'Cooking staff' 'Low-skill Laborers'\n",
      " 'Medicine staff' 'Secretaries' 'Waiters/barmen staff' 'HR staff'\n",
      " 'Realty agents' 'IT staff']\n",
      "CNT_FAM_MEMBERS - [ 2.  1.  5.  3.  4.  6. 15.  7. 20.  9.]\n",
      "MONTHS_BALANCE - [  0  -1  -2  -3  -4  -5  -6  -7  -8  -9 -10 -11 -12 -13 -14 -15 -16 -17\n",
      " -18 -19 -20 -21 -22 -23 -24 -25 -26 -27 -28 -29 -30 -31 -32 -33 -34 -35\n",
      " -36 -37 -38 -39 -40 -41 -42 -43 -44 -45 -46 -47 -48 -49 -50 -51 -52 -53\n",
      " -54 -55 -56 -57 -58 -59 -60]\n",
      "STATUS - ['C' '1' '0' 'X' '5' '4' '3' '2']\n"
     ]
    }
   ],
   "source": [
    "#Getting unique values from each features\n",
    "for i in credit_card.columns:\n",
    "    print(i,'-',credit_card[i].unique())"
   ]
  },
  {
   "cell_type": "code",
   "execution_count": 16,
   "id": "b408d052",
   "metadata": {},
   "outputs": [],
   "source": [
    "#Getting Age and WorkTerm info\n",
    "credit_card['AGE']=-(credit_card['DAYS_BIRTH'])//365\n",
    "credit_card['WORKTERM']=-(credit_card['DAYS_EMPLOYED'])//365\n",
    "\n",
    "credit_card['WORKTERM']= credit_card['WORKTERM'].replace(-1001,-1)\n",
    "credit_card.drop(['DAYS_BIRTH','DAYS_EMPLOYED'],axis = 1,inplace=True)\n",
    "\n",
    "# replacing the value of C,X to numeric value \n",
    "credit_card['STATUS'].replace({'C': 6, 'X' : 7}, inplace=True)\n",
    "credit_card['STATUS']=credit_card['STATUS'].astype(int)"
   ]
  },
  {
   "cell_type": "code",
   "execution_count": 17,
   "id": "c8c39e10",
   "metadata": {},
   "outputs": [],
   "source": [
    "def get_label(status):\n",
    "    if status in (2,3,4,5):\n",
    "        return 1  # Risky\n",
    "    else:\n",
    "        return 0 # Not Risky"
   ]
  },
  {
   "cell_type": "code",
   "execution_count": 18,
   "id": "2b3d0e11",
   "metadata": {},
   "outputs": [],
   "source": [
    "credit_card['LABEL'] = credit_card['STATUS'].apply(get_label)\n",
    "credit_card['LABEL']=credit_card['LABEL'].astype('category')\n",
    "credit_card.drop('STATUS',axis = 1,inplace=True)"
   ]
  },
  {
   "cell_type": "code",
   "execution_count": 19,
   "id": "1b5c5f37",
   "metadata": {},
   "outputs": [
    {
     "data": {
      "text/plain": [
       "array([12,  3,  8, -1,  2,  4,  5, 19, 14, 13,  7,  6, 17, 29,  1, 15, 11,\n",
       "        0, 10, 23, 24, 20,  9, 27, 26, 18, 21, 22, 16, 28, 38, 32, 31, 36,\n",
       "       37, 30, 39, 25, 34, 33, 41, 40, 35, 43, 42], dtype=int64)"
      ]
     },
     "execution_count": 19,
     "metadata": {},
     "output_type": "execute_result"
    }
   ],
   "source": [
    "credit_card['WORKTERM'].unique()"
   ]
  },
  {
   "cell_type": "code",
   "execution_count": 20,
   "id": "640f54db",
   "metadata": {},
   "outputs": [
    {
     "data": {
      "text/plain": [
       "CODE_GENDER             0.000000\n",
       "FLAG_OWN_CAR            0.000000\n",
       "FLAG_OWN_REALTY         0.000000\n",
       "CNT_CHILDREN            0.000000\n",
       "AMT_INCOME_TOTAL        0.000000\n",
       "NAME_INCOME_TYPE        0.000000\n",
       "NAME_EDUCATION_TYPE     0.000000\n",
       "NAME_FAMILY_STATUS      0.000000\n",
       "NAME_HOUSING_TYPE       0.000000\n",
       "FLAG_MOBIL              0.000000\n",
       "FLAG_WORK_PHONE         0.000000\n",
       "FLAG_PHONE              0.000000\n",
       "FLAG_EMAIL              0.000000\n",
       "OCCUPATION_TYPE        30.880418\n",
       "CNT_FAM_MEMBERS         0.000000\n",
       "MONTHS_BALANCE          0.000000\n",
       "AGE                     0.000000\n",
       "WORKTERM                0.000000\n",
       "LABEL                   0.000000\n",
       "dtype: float64"
      ]
     },
     "execution_count": 20,
     "metadata": {},
     "output_type": "execute_result"
    }
   ],
   "source": [
    "#Checking for empty cells\n",
    "credit_card.isnull().sum() * 100 / credit_card.shape[0]"
   ]
  },
  {
   "cell_type": "code",
   "execution_count": 21,
   "id": "f588d5fa",
   "metadata": {},
   "outputs": [
    {
     "data": {
      "text/plain": [
       "<AxesSubplot:xlabel='LABEL', ylabel='count'>"
      ]
     },
     "execution_count": 21,
     "metadata": {},
     "output_type": "execute_result"
    },
    {
     "data": {
      "image/png": "[encoded data removed]",
      "text/plain": [
       "<Figure size 432x288 with 1 Axes>"
      ]
     },
     "metadata": {
      "needs_background": "light"
     },
     "output_type": "display_data"
    }
   ],
   "source": [
    "sns.countplot(x=credit_card[\"LABEL\"])"
   ]
  },
  {
   "cell_type": "code",
   "execution_count": null,
   "id": "4bf4eeb9",
   "metadata": {},
   "outputs": [],
   "source": [
    "                      #EDA - Exploratory Data Analysis "
   ]
  },
  {
   "cell_type": "code",
   "execution_count": null,
   "id": "a2070aa7",
   "metadata": {},
   "outputs": [],
   "source": [
    "#Here we can clearly observe imbalance in the data where maximum number applicants are of whose application is approved. \n",
    "#This need to corrected using sampling techniques before feeding into predictive models."
   ]
  },
  {
   "cell_type": "code",
   "execution_count": 23,
   "id": "12a34c4d",
   "metadata": {},
   "outputs": [
    {
     "data": {
      "text/plain": [
       "<seaborn.axisgrid.PairGrid at 0x22c55671eb0>"
      ]
     },
     "execution_count": 23,
     "metadata": {},
     "output_type": "execute_result"
    },
    {
     "data": {
      "image/png": "[encoded data removed]",
      "text/plain": [
       "<Figure size 1800x1800 with 110 Axes>"
      ]
     },
     "metadata": {
      "needs_background": "light"
     },
     "output_type": "display_data"
    }
   ],
   "source": [
    "sns.pairplot(credit_card.sample(100))\n"
   ]
  },
  {
   "cell_type": "code",
   "execution_count": 61,
   "id": "18bb0db7",
   "metadata": {},
   "outputs": [
    {
     "data": {
      "application/vnd.plotly.v1+json": {
       "config": {
        "plotlyServerURL": "https://plot.ly"
       },
       "data": [
        {
         "colorscale": [
          [
           0,
           "#440154"
          ],
          [
           0.1111111111111111,
           "#482878"
          ],
          [
           0.2222222222222222,
           "#3e4989"
          ],
          [
           0.3333333333333333,
           "#31688e"
          ],
          [
           0.4444444444444444,
           "#26828e"
          ],
          [
           0.5555555555555556,
           "#1f9e89"
          ],
          [
           0.6666666666666666,
           "#35b779"
          ],
          [
           0.7777777777777778,
           "#6ece58"
          ],
          [
           0.8888888888888888,
           "#b5de2b"
          ],
          [
           1,
           "#fde725"
          ]
         ],
         "hoverinfo": "z",
         "reversescale": false,
         "showscale": false,
         "type": "heatmap",
         "x": [
          "CNT_CHILDREN",
          "AMT_INCOME_TOTAL",
          "FLAG_MOBIL",
          "FLAG_WORK_PHONE",
          "FLAG_PHONE",
          "FLAG_EMAIL",
          "CNT_FAM_MEMBERS",
          "MONTHS_BALANCE",
          "AGE",
          "WORKTERM"
         ],
         "y": [
          "CNT_CHILDREN",
          "AMT_INCOME_TOTAL",
          "FLAG_MOBIL",
          "FLAG_WORK_PHONE",
          "FLAG_PHONE",
          "FLAG_EMAIL",
          "CNT_FAM_MEMBERS",
          "MONTHS_BALANCE",
          "AGE",
          "WORKTERM"
         ],
         "z": [
          [
           1,
           0.054274973239303616,
           null,
           0.035105987990647416,
           -0.02951493247341798,
           0.019944078321412408,
           0.8238284344872142,
           0.004748256886531841,
           -0.39483619752843013,
           0.1347662930247065
          ],
          [
           0.054274973239303616,
           1,
           null,
           -0.03446057881234231,
           0.0010846701609800063,
           0.08684877708093251,
           0.03732439987834799,
           -0.005802413743770354,
           -0.11438899479495448,
           0.16408125824636735
          ],
          [
           null,
           null,
           null,
           null,
           null,
           null,
           null,
           null,
           null,
           null
          ],
          [
           0.035105987990647416,
           -0.03446057881234231,
           null,
           1,
           0.30964123715693537,
           -0.04138056929458915,
           0.05494720504846658,
           -0.0012170370876465472,
           -0.17714737608601375,
           0.16752704693242626
          ],
          [
           -0.02951493247341798,
           0.0010846701609800063,
           null,
           0.30964123715693537,
           1,
           0.009019399593989251,
           -0.010806928223837282,
           -0.006734741305147041,
           0.030887544350093624,
           0.03469991510122604
          ],
          [
           0.019944078321412408,
           0.08684877708093251,
           null,
           -0.04138056929458915,
           0.009019399593989251,
           1,
           0.009181636382893607,
           0.008351583701046023,
           -0.10142561275976818,
           0.020088925027753498
          ],
          [
           0.8238284344872142,
           0.03732439987834799,
           null,
           0.05494720504846658,
           -0.010806928223837282,
           0.009181636382893607,
           1,
           -0.007797121146918483,
           -0.319085472744373,
           0.1425612771719874
          ],
          [
           0.004748256886531841,
           -0.005802413743770354,
           null,
           -0.0012170370876465472,
           -0.006734741305147041,
           0.008351583701046023,
           -0.007797121146918483,
           1,
           -0.04198249121042836,
           -0.03833933477458755
          ],
          [
           -0.39483619752843013,
           -0.11438899479495448,
           null,
           -0.17714737608601375,
           0.030887544350093624,
           -0.10142561275976818,
           -0.319085472744373,
           -0.04198249121042836,
           1,
           -0.22407140766302824
          ],
          [
           0.1347662930247065,
           0.16408125824636735,
           null,
           0.16752704693242626,
           0.03469991510122604,
           0.020088925027753498,
           0.1425612771719874,
           -0.03833933477458755,
           -0.22407140766302824,
           1
          ]
         ]
        }
       ],
       "layout": {
        "annotations": [
         {
          "font": {
           "color": "#000000"
          },
          "showarrow": false,
          "text": "1.0",
          "x": "CNT_CHILDREN",
          "xref": "x",
          "y": "CNT_CHILDREN",
          "yref": "y"
         },
         {
          "font": {
           "color": "#000000"
          },
          "showarrow": false,
          "text": "0.05",
          "x": "AMT_INCOME_TOTAL",
          "xref": "x",
          "y": "CNT_CHILDREN",
          "yref": "y"
         },
         {
          "font": {
           "color": "#000000"
          },
          "showarrow": false,
          "text": "nan",
          "x": "FLAG_MOBIL",
          "xref": "x",
          "y": "CNT_CHILDREN",
          "yref": "y"
         },
         {
          "font": {
           "color": "#000000"
          },
          "showarrow": false,
          "text": "0.04",
          "x": "FLAG_WORK_PHONE",
          "xref": "x",
          "y": "CNT_CHILDREN",
          "yref": "y"
         },
         {
          "font": {
           "color": "#000000"
          },
          "showarrow": false,
          "text": "-0.03",
          "x": "FLAG_PHONE",
          "xref": "x",
          "y": "CNT_CHILDREN",
          "yref": "y"
         },
         {
          "font": {
           "color": "#000000"
          },
          "showarrow": false,
          "text": "0.02",
          "x": "FLAG_EMAIL",
          "xref": "x",
          "y": "CNT_CHILDREN",
          "yref": "y"
         },
         {
          "font": {
           "color": "#000000"
          },
          "showarrow": false,
          "text": "0.82",
          "x": "CNT_FAM_MEMBERS",
          "xref": "x",
          "y": "CNT_CHILDREN",
          "yref": "y"
         },
         {
          "font": {
           "color": "#000000"
          },
          "showarrow": false,
          "text": "0.0",
          "x": "MONTHS_BALANCE",
          "xref": "x",
          "y": "CNT_CHILDREN",
          "yref": "y"
         },
         {
          "font": {
           "color": "#000000"
          },
          "showarrow": false,
          "text": "-0.39",
          "x": "AGE",
          "xref": "x",
          "y": "CNT_CHILDREN",
          "yref": "y"
         },
         {
          "font": {
           "color": "#000000"
          },
          "showarrow": false,
          "text": "0.13",
          "x": "WORKTERM",
          "xref": "x",
          "y": "CNT_CHILDREN",
          "yref": "y"
         },
         {
          "font": {
           "color": "#000000"
          },
          "showarrow": false,
          "text": "0.05",
          "x": "CNT_CHILDREN",
          "xref": "x",
          "y": "AMT_INCOME_TOTAL",
          "yref": "y"
         },
         {
          "font": {
           "color": "#000000"
          },
          "showarrow": false,
          "text": "1.0",
          "x": "AMT_INCOME_TOTAL",
          "xref": "x",
          "y": "AMT_INCOME_TOTAL",
          "yref": "y"
         },
         {
          "font": {
           "color": "#000000"
          },
          "showarrow": false,
          "text": "nan",
          "x": "FLAG_MOBIL",
          "xref": "x",
          "y": "AMT_INCOME_TOTAL",
          "yref": "y"
         },
         {
          "font": {
           "color": "#000000"
          },
          "showarrow": false,
          "text": "-0.03",
          "x": "FLAG_WORK_PHONE",
          "xref": "x",
          "y": "AMT_INCOME_TOTAL",
          "yref": "y"
         },
         {
          "font": {
           "color": "#000000"
          },
          "showarrow": false,
          "text": "0.0",
          "x": "FLAG_PHONE",
          "xref": "x",
          "y": "AMT_INCOME_TOTAL",
          "yref": "y"
         },
         {
          "font": {
           "color": "#000000"
          },
          "showarrow": false,
          "text": "0.09",
          "x": "FLAG_EMAIL",
          "xref": "x",
          "y": "AMT_INCOME_TOTAL",
          "yref": "y"
         },
         {
          "font": {
           "color": "#000000"
          },
          "showarrow": false,
          "text": "0.04",
          "x": "CNT_FAM_MEMBERS",
          "xref": "x",
          "y": "AMT_INCOME_TOTAL",
          "yref": "y"
         },
         {
          "font": {
           "color": "#000000"
          },
          "showarrow": false,
          "text": "-0.01",
          "x": "MONTHS_BALANCE",
          "xref": "x",
          "y": "AMT_INCOME_TOTAL",
          "yref": "y"
         },
         {
          "font": {
           "color": "#000000"
          },
          "showarrow": false,
          "text": "-0.11",
          "x": "AGE",
          "xref": "x",
          "y": "AMT_INCOME_TOTAL",
          "yref": "y"
         },
         {
          "font": {
           "color": "#000000"
          },
          "showarrow": false,
          "text": "0.16",
          "x": "WORKTERM",
          "xref": "x",
          "y": "AMT_INCOME_TOTAL",
          "yref": "y"
         },
         {
          "font": {
           "color": "#000000"
          },
          "showarrow": false,
          "text": "nan",
          "x": "CNT_CHILDREN",
          "xref": "x",
          "y": "FLAG_MOBIL",
          "yref": "y"
         },
         {
          "font": {
           "color": "#000000"
          },
          "showarrow": false,
          "text": "nan",
          "x": "AMT_INCOME_TOTAL",
          "xref": "x",
          "y": "FLAG_MOBIL",
          "yref": "y"
         },
         {
          "font": {
           "color": "#000000"
          },
          "showarrow": false,
          "text": "nan",
          "x": "FLAG_MOBIL",
          "xref": "x",
          "y": "FLAG_MOBIL",
          "yref": "y"
         },
         {
          "font": {
           "color": "#000000"
          },
          "showarrow": false,
          "text": "nan",
          "x": "FLAG_WORK_PHONE",
          "xref": "x",
          "y": "FLAG_MOBIL",
          "yref": "y"
         },
         {
          "font": {
           "color": "#000000"
          },
          "showarrow": false,
          "text": "nan",
          "x": "FLAG_PHONE",
          "xref": "x",
          "y": "FLAG_MOBIL",
          "yref": "y"
         },
         {
          "font": {
           "color": "#000000"
          },
          "showarrow": false,
          "text": "nan",
          "x": "FLAG_EMAIL",
          "xref": "x",
          "y": "FLAG_MOBIL",
          "yref": "y"
         },
         {
          "font": {
           "color": "#000000"
          },
          "showarrow": false,
          "text": "nan",
          "x": "CNT_FAM_MEMBERS",
          "xref": "x",
          "y": "FLAG_MOBIL",
          "yref": "y"
         },
         {
          "font": {
           "color": "#000000"
          },
          "showarrow": false,
          "text": "nan",
          "x": "MONTHS_BALANCE",
          "xref": "x",
          "y": "FLAG_MOBIL",
          "yref": "y"
         },
         {
          "font": {
           "color": "#000000"
          },
          "showarrow": false,
          "text": "nan",
          "x": "AGE",
          "xref": "x",
          "y": "FLAG_MOBIL",
          "yref": "y"
         },
         {
          "font": {
           "color": "#000000"
          },
          "showarrow": false,
          "text": "nan",
          "x": "WORKTERM",
          "xref": "x",
          "y": "FLAG_MOBIL",
          "yref": "y"
         },
         {
          "font": {
           "color": "#000000"
          },
          "showarrow": false,
          "text": "0.04",
          "x": "CNT_CHILDREN",
          "xref": "x",
          "y": "FLAG_WORK_PHONE",
          "yref": "y"
         },
         {
          "font": {
           "color": "#000000"
          },
          "showarrow": false,
          "text": "-0.03",
          "x": "AMT_INCOME_TOTAL",
          "xref": "x",
          "y": "FLAG_WORK_PHONE",
          "yref": "y"
         },
         {
          "font": {
           "color": "#000000"
          },
          "showarrow": false,
          "text": "nan",
          "x": "FLAG_MOBIL",
          "xref": "x",
          "y": "FLAG_WORK_PHONE",
          "yref": "y"
         },
         {
          "font": {
           "color": "#000000"
          },
          "showarrow": false,
          "text": "1.0",
          "x": "FLAG_WORK_PHONE",
          "xref": "x",
          "y": "FLAG_WORK_PHONE",
          "yref": "y"
         },
         {
          "font": {
           "color": "#000000"
          },
          "showarrow": false,
          "text": "0.31",
          "x": "FLAG_PHONE",
          "xref": "x",
          "y": "FLAG_WORK_PHONE",
          "yref": "y"
         },
         {
          "font": {
           "color": "#000000"
          },
          "showarrow": false,
          "text": "-0.04",
          "x": "FLAG_EMAIL",
          "xref": "x",
          "y": "FLAG_WORK_PHONE",
          "yref": "y"
         },
         {
          "font": {
           "color": "#000000"
          },
          "showarrow": false,
          "text": "0.05",
          "x": "CNT_FAM_MEMBERS",
          "xref": "x",
          "y": "FLAG_WORK_PHONE",
          "yref": "y"
         },
         {
          "font": {
           "color": "#000000"
          },
          "showarrow": false,
          "text": "-0.0",
          "x": "MONTHS_BALANCE",
          "xref": "x",
          "y": "FLAG_WORK_PHONE",
          "yref": "y"
         },
         {
          "font": {
           "color": "#000000"
          },
          "showarrow": false,
          "text": "-0.18",
          "x": "AGE",
          "xref": "x",
          "y": "FLAG_WORK_PHONE",
          "yref": "y"
         },
         {
          "font": {
           "color": "#000000"
          },
          "showarrow": false,
          "text": "0.17",
          "x": "WORKTERM",
          "xref": "x",
          "y": "FLAG_WORK_PHONE",
          "yref": "y"
         },
         {
          "font": {
           "color": "#000000"
          },
          "showarrow": false,
          "text": "-0.03",
          "x": "CNT_CHILDREN",
          "xref": "x",
          "y": "FLAG_PHONE",
          "yref": "y"
         },
         {
          "font": {
           "color": "#000000"
          },
          "showarrow": false,
          "text": "0.0",
          "x": "AMT_INCOME_TOTAL",
          "xref": "x",
          "y": "FLAG_PHONE",
          "yref": "y"
         },
         {
          "font": {
           "color": "#000000"
          },
          "showarrow": false,
          "text": "nan",
          "x": "FLAG_MOBIL",
          "xref": "x",
          "y": "FLAG_PHONE",
          "yref": "y"
         },
         {
          "font": {
           "color": "#000000"
          },
          "showarrow": false,
          "text": "0.31",
          "x": "FLAG_WORK_PHONE",
          "xref": "x",
          "y": "FLAG_PHONE",
          "yref": "y"
         },
         {
          "font": {
           "color": "#000000"
          },
          "showarrow": false,
          "text": "1.0",
          "x": "FLAG_PHONE",
          "xref": "x",
          "y": "FLAG_PHONE",
          "yref": "y"
         },
         {
          "font": {
           "color": "#000000"
          },
          "showarrow": false,
          "text": "0.01",
          "x": "FLAG_EMAIL",
          "xref": "x",
          "y": "FLAG_PHONE",
          "yref": "y"
         },
         {
          "font": {
           "color": "#000000"
          },
          "showarrow": false,
          "text": "-0.01",
          "x": "CNT_FAM_MEMBERS",
          "xref": "x",
          "y": "FLAG_PHONE",
          "yref": "y"
         },
         {
          "font": {
           "color": "#000000"
          },
          "showarrow": false,
          "text": "-0.01",
          "x": "MONTHS_BALANCE",
          "xref": "x",
          "y": "FLAG_PHONE",
          "yref": "y"
         },
         {
          "font": {
           "color": "#000000"
          },
          "showarrow": false,
          "text": "0.03",
          "x": "AGE",
          "xref": "x",
          "y": "FLAG_PHONE",
          "yref": "y"
         },
         {
          "font": {
           "color": "#000000"
          },
          "showarrow": false,
          "text": "0.03",
          "x": "WORKTERM",
          "xref": "x",
          "y": "FLAG_PHONE",
          "yref": "y"
         },
         {
          "font": {
           "color": "#000000"
          },
          "showarrow": false,
          "text": "0.02",
          "x": "CNT_CHILDREN",
          "xref": "x",
          "y": "FLAG_EMAIL",
          "yref": "y"
         },
         {
          "font": {
           "color": "#000000"
          },
          "showarrow": false,
          "text": "0.09",
          "x": "AMT_INCOME_TOTAL",
          "xref": "x",
          "y": "FLAG_EMAIL",
          "yref": "y"
         },
         {
          "font": {
           "color": "#000000"
          },
          "showarrow": false,
          "text": "nan",
          "x": "FLAG_MOBIL",
          "xref": "x",
          "y": "FLAG_EMAIL",
          "yref": "y"
         },
         {
          "font": {
           "color": "#000000"
          },
          "showarrow": false,
          "text": "-0.04",
          "x": "FLAG_WORK_PHONE",
          "xref": "x",
          "y": "FLAG_EMAIL",
          "yref": "y"
         },
         {
          "font": {
           "color": "#000000"
          },
          "showarrow": false,
          "text": "0.01",
          "x": "FLAG_PHONE",
          "xref": "x",
          "y": "FLAG_EMAIL",
          "yref": "y"
         },
         {
          "font": {
           "color": "#000000"
          },
          "showarrow": false,
          "text": "1.0",
          "x": "FLAG_EMAIL",
          "xref": "x",
          "y": "FLAG_EMAIL",
          "yref": "y"
         },
         {
          "font": {
           "color": "#000000"
          },
          "showarrow": false,
          "text": "0.01",
          "x": "CNT_FAM_MEMBERS",
          "xref": "x",
          "y": "FLAG_EMAIL",
          "yref": "y"
         },
         {
          "font": {
           "color": "#000000"
          },
          "showarrow": false,
          "text": "0.01",
          "x": "MONTHS_BALANCE",
          "xref": "x",
          "y": "FLAG_EMAIL",
          "yref": "y"
         },
         {
          "font": {
           "color": "#000000"
          },
          "showarrow": false,
          "text": "-0.1",
          "x": "AGE",
          "xref": "x",
          "y": "FLAG_EMAIL",
          "yref": "y"
         },
         {
          "font": {
           "color": "#000000"
          },
          "showarrow": false,
          "text": "0.02",
          "x": "WORKTERM",
          "xref": "x",
          "y": "FLAG_EMAIL",
          "yref": "y"
         },
         {
          "font": {
           "color": "#000000"
          },
          "showarrow": false,
          "text": "0.82",
          "x": "CNT_CHILDREN",
          "xref": "x",
          "y": "CNT_FAM_MEMBERS",
          "yref": "y"
         },
         {
          "font": {
           "color": "#000000"
          },
          "showarrow": false,
          "text": "0.04",
          "x": "AMT_INCOME_TOTAL",
          "xref": "x",
          "y": "CNT_FAM_MEMBERS",
          "yref": "y"
         },
         {
          "font": {
           "color": "#000000"
          },
          "showarrow": false,
          "text": "nan",
          "x": "FLAG_MOBIL",
          "xref": "x",
          "y": "CNT_FAM_MEMBERS",
          "yref": "y"
         },
         {
          "font": {
           "color": "#000000"
          },
          "showarrow": false,
          "text": "0.05",
          "x": "FLAG_WORK_PHONE",
          "xref": "x",
          "y": "CNT_FAM_MEMBERS",
          "yref": "y"
         },
         {
          "font": {
           "color": "#000000"
          },
          "showarrow": false,
          "text": "-0.01",
          "x": "FLAG_PHONE",
          "xref": "x",
          "y": "CNT_FAM_MEMBERS",
          "yref": "y"
         },
         {
          "font": {
           "color": "#000000"
          },
          "showarrow": false,
          "text": "0.01",
          "x": "FLAG_EMAIL",
          "xref": "x",
          "y": "CNT_FAM_MEMBERS",
          "yref": "y"
         },
         {
          "font": {
           "color": "#000000"
          },
          "showarrow": false,
          "text": "1.0",
          "x": "CNT_FAM_MEMBERS",
          "xref": "x",
          "y": "CNT_FAM_MEMBERS",
          "yref": "y"
         },
         {
          "font": {
           "color": "#000000"
          },
          "showarrow": false,
          "text": "-0.01",
          "x": "MONTHS_BALANCE",
          "xref": "x",
          "y": "CNT_FAM_MEMBERS",
          "yref": "y"
         },
         {
          "font": {
           "color": "#000000"
          },
          "showarrow": false,
          "text": "-0.32",
          "x": "AGE",
          "xref": "x",
          "y": "CNT_FAM_MEMBERS",
          "yref": "y"
         },
         {
          "font": {
           "color": "#000000"
          },
          "showarrow": false,
          "text": "0.14",
          "x": "WORKTERM",
          "xref": "x",
          "y": "CNT_FAM_MEMBERS",
          "yref": "y"
         },
         {
          "font": {
           "color": "#000000"
          },
          "showarrow": false,
          "text": "0.0",
          "x": "CNT_CHILDREN",
          "xref": "x",
          "y": "MONTHS_BALANCE",
          "yref": "y"
         },
         {
          "font": {
           "color": "#000000"
          },
          "showarrow": false,
          "text": "-0.01",
          "x": "AMT_INCOME_TOTAL",
          "xref": "x",
          "y": "MONTHS_BALANCE",
          "yref": "y"
         },
         {
          "font": {
           "color": "#000000"
          },
          "showarrow": false,
          "text": "nan",
          "x": "FLAG_MOBIL",
          "xref": "x",
          "y": "MONTHS_BALANCE",
          "yref": "y"
         },
         {
          "font": {
           "color": "#000000"
          },
          "showarrow": false,
          "text": "-0.0",
          "x": "FLAG_WORK_PHONE",
          "xref": "x",
          "y": "MONTHS_BALANCE",
          "yref": "y"
         },
         {
          "font": {
           "color": "#000000"
          },
          "showarrow": false,
          "text": "-0.01",
          "x": "FLAG_PHONE",
          "xref": "x",
          "y": "MONTHS_BALANCE",
          "yref": "y"
         },
         {
          "font": {
           "color": "#000000"
          },
          "showarrow": false,
          "text": "0.01",
          "x": "FLAG_EMAIL",
          "xref": "x",
          "y": "MONTHS_BALANCE",
          "yref": "y"
         },
         {
          "font": {
           "color": "#000000"
          },
          "showarrow": false,
          "text": "-0.01",
          "x": "CNT_FAM_MEMBERS",
          "xref": "x",
          "y": "MONTHS_BALANCE",
          "yref": "y"
         },
         {
          "font": {
           "color": "#000000"
          },
          "showarrow": false,
          "text": "1.0",
          "x": "MONTHS_BALANCE",
          "xref": "x",
          "y": "MONTHS_BALANCE",
          "yref": "y"
         },
         {
          "font": {
           "color": "#000000"
          },
          "showarrow": false,
          "text": "-0.04",
          "x": "AGE",
          "xref": "x",
          "y": "MONTHS_BALANCE",
          "yref": "y"
         },
         {
          "font": {
           "color": "#000000"
          },
          "showarrow": false,
          "text": "-0.04",
          "x": "WORKTERM",
          "xref": "x",
          "y": "MONTHS_BALANCE",
          "yref": "y"
         },
         {
          "font": {
           "color": "#000000"
          },
          "showarrow": false,
          "text": "-0.39",
          "x": "CNT_CHILDREN",
          "xref": "x",
          "y": "AGE",
          "yref": "y"
         },
         {
          "font": {
           "color": "#000000"
          },
          "showarrow": false,
          "text": "-0.11",
          "x": "AMT_INCOME_TOTAL",
          "xref": "x",
          "y": "AGE",
          "yref": "y"
         },
         {
          "font": {
           "color": "#000000"
          },
          "showarrow": false,
          "text": "nan",
          "x": "FLAG_MOBIL",
          "xref": "x",
          "y": "AGE",
          "yref": "y"
         },
         {
          "font": {
           "color": "#000000"
          },
          "showarrow": false,
          "text": "-0.18",
          "x": "FLAG_WORK_PHONE",
          "xref": "x",
          "y": "AGE",
          "yref": "y"
         },
         {
          "font": {
           "color": "#000000"
          },
          "showarrow": false,
          "text": "0.03",
          "x": "FLAG_PHONE",
          "xref": "x",
          "y": "AGE",
          "yref": "y"
         },
         {
          "font": {
           "color": "#000000"
          },
          "showarrow": false,
          "text": "-0.1",
          "x": "FLAG_EMAIL",
          "xref": "x",
          "y": "AGE",
          "yref": "y"
         },
         {
          "font": {
           "color": "#000000"
          },
          "showarrow": false,
          "text": "-0.32",
          "x": "CNT_FAM_MEMBERS",
          "xref": "x",
          "y": "AGE",
          "yref": "y"
         },
         {
          "font": {
           "color": "#000000"
          },
          "showarrow": false,
          "text": "-0.04",
          "x": "MONTHS_BALANCE",
          "xref": "x",
          "y": "AGE",
          "yref": "y"
         },
         {
          "font": {
           "color": "#000000"
          },
          "showarrow": false,
          "text": "1.0",
          "x": "AGE",
          "xref": "x",
          "y": "AGE",
          "yref": "y"
         },
         {
          "font": {
           "color": "#000000"
          },
          "showarrow": false,
          "text": "-0.22",
          "x": "WORKTERM",
          "xref": "x",
          "y": "AGE",
          "yref": "y"
         },
         {
          "font": {
           "color": "#000000"
          },
          "showarrow": false,
          "text": "0.13",
          "x": "CNT_CHILDREN",
          "xref": "x",
          "y": "WORKTERM",
          "yref": "y"
         },
         {
          "font": {
           "color": "#000000"
          },
          "showarrow": false,
          "text": "0.16",
          "x": "AMT_INCOME_TOTAL",
          "xref": "x",
          "y": "WORKTERM",
          "yref": "y"
         },
         {
          "font": {
           "color": "#000000"
          },
          "showarrow": false,
          "text": "nan",
          "x": "FLAG_MOBIL",
          "xref": "x",
          "y": "WORKTERM",
          "yref": "y"
         },
         {
          "font": {
           "color": "#000000"
          },
          "showarrow": false,
          "text": "0.17",
          "x": "FLAG_WORK_PHONE",
          "xref": "x",
          "y": "WORKTERM",
          "yref": "y"
         },
         {
          "font": {
           "color": "#000000"
          },
          "showarrow": false,
          "text": "0.03",
          "x": "FLAG_PHONE",
          "xref": "x",
          "y": "WORKTERM",
          "yref": "y"
         },
         {
          "font": {
           "color": "#000000"
          },
          "showarrow": false,
          "text": "0.02",
          "x": "FLAG_EMAIL",
          "xref": "x",
          "y": "WORKTERM",
          "yref": "y"
         },
         {
          "font": {
           "color": "#000000"
          },
          "showarrow": false,
          "text": "0.14",
          "x": "CNT_FAM_MEMBERS",
          "xref": "x",
          "y": "WORKTERM",
          "yref": "y"
         },
         {
          "font": {
           "color": "#000000"
          },
          "showarrow": false,
          "text": "-0.04",
          "x": "MONTHS_BALANCE",
          "xref": "x",
          "y": "WORKTERM",
          "yref": "y"
         },
         {
          "font": {
           "color": "#000000"
          },
          "showarrow": false,
          "text": "-0.22",
          "x": "AGE",
          "xref": "x",
          "y": "WORKTERM",
          "yref": "y"
         },
         {
          "font": {
           "color": "#000000"
          },
          "showarrow": false,
          "text": "1.0",
          "x": "WORKTERM",
          "xref": "x",
          "y": "WORKTERM",
          "yref": "y"
         }
        ],
        "template": {
         "data": {
          "bar": [
           {
            "error_x": {
             "color": "#2a3f5f"
            },
            "error_y": {
             "color": "#2a3f5f"
            },
            "marker": {
             "line": {
              "color": "#E5ECF6",
              "width": 0.5
             },
             "pattern": {
              "fillmode": "overlay",
              "size": 10,
              "solidity": 0.2
             }
            },
            "type": "bar"
           }
          ],
          "barpolar": [
           {
            "marker": {
             "line": {
              "color": "#E5ECF6",
              "width": 0.5
             },
             "pattern": {
              "fillmode": "overlay",
              "size": 10,
              "solidity": 0.2
             }
            },
            "type": "barpolar"
           }
          ],
          "carpet": [
           {
            "aaxis": {
             "endlinecolor": "#2a3f5f",
             "gridcolor": "white",
             "linecolor": "white",
             "minorgridcolor": "white",
             "startlinecolor": "#2a3f5f"
            },
            "baxis": {
             "endlinecolor": "#2a3f5f",
             "gridcolor": "white",
             "linecolor": "white",
             "minorgridcolor": "white",
             "startlinecolor": "#2a3f5f"
            },
            "type": "carpet"
           }
          ],
          "choropleth": [
           {
            "colorbar": {
             "outlinewidth": 0,
             "ticks": ""
            },
            "type": "choropleth"
           }
          ],
          "contour": [
           {
            "colorbar": {
             "outlinewidth": 0,
             "ticks": ""
            },
            "colorscale": [
             [
              0,
              "#0d0887"
             ],
             [
              0.1111111111111111,
              "#46039f"
             ],
             [
              0.2222222222222222,
              "#7201a8"
             ],
             [
              0.3333333333333333,
              "#9c179e"
             ],
             [
              0.4444444444444444,
              "#bd3786"
             ],
             [
              0.5555555555555556,
              "#d8576b"
             ],
             [
              0.6666666666666666,
              "#ed7953"
             ],
             [
              0.7777777777777778,
              "#fb9f3a"
             ],
             [
              0.8888888888888888,
              "#fdca26"
             ],
             [
              1,
              "#f0f921"
             ]
            ],
            "type": "contour"
           }
          ],
          "contourcarpet": [
           {
            "colorbar": {
             "outlinewidth": 0,
             "ticks": ""
            },
            "type": "contourcarpet"
           }
          ],
          "heatmap": [
           {
            "colorbar": {
             "outlinewidth": 0,
             "ticks": ""
            },
            "colorscale": [
             [
              0,
              "#0d0887"
             ],
             [
              0.1111111111111111,
              "#46039f"
             ],
             [
              0.2222222222222222,
              "#7201a8"
             ],
             [
              0.3333333333333333,
              "#9c179e"
             ],
             [
              0.4444444444444444,
              "#bd3786"
             ],
             [
              0.5555555555555556,
              "#d8576b"
             ],
             [
              0.6666666666666666,
              "#ed7953"
             ],
             [
              0.7777777777777778,
              "#fb9f3a"
             ],
             [
              0.8888888888888888,
              "#fdca26"
             ],
             [
              1,
              "#f0f921"
             ]
            ],
            "type": "heatmap"
           }
          ],
          "heatmapgl": [
           {
            "colorbar": {
             "outlinewidth": 0,
             "ticks": ""
            },
            "colorscale": [
             [
              0,
              "#0d0887"
             ],
             [
              0.1111111111111111,
              "#46039f"
             ],
             [
              0.2222222222222222,
              "#7201a8"
             ],
             [
              0.3333333333333333,
              "#9c179e"
             ],
             [
              0.4444444444444444,
              "#bd3786"
             ],
             [
              0.5555555555555556,
              "#d8576b"
             ],
             [
              0.6666666666666666,
              "#ed7953"
             ],
             [
              0.7777777777777778,
              "#fb9f3a"
             ],
             [
              0.8888888888888888,
              "#fdca26"
             ],
             [
              1,
              "#f0f921"
             ]
            ],
            "type": "heatmapgl"
           }
          ],
          "histogram": [
           {
            "marker": {
             "pattern": {
              "fillmode": "overlay",
              "size": 10,
              "solidity": 0.2
             }
            },
            "type": "histogram"
           }
          ],
          "histogram2d": [
           {
            "colorbar": {
             "outlinewidth": 0,
             "ticks": ""
            },
            "colorscale": [
             [
              0,
              "#0d0887"
             ],
             [
              0.1111111111111111,
              "#46039f"
             ],
             [
              0.2222222222222222,
              "#7201a8"
             ],
             [
              0.3333333333333333,
              "#9c179e"
             ],
             [
              0.4444444444444444,
              "#bd3786"
             ],
             [
              0.5555555555555556,
              "#d8576b"
             ],
             [
              0.6666666666666666,
              "#ed7953"
             ],
             [
              0.7777777777777778,
              "#fb9f3a"
             ],
             [
              0.8888888888888888,
              "#fdca26"
             ],
             [
              1,
              "#f0f921"
             ]
            ],
            "type": "histogram2d"
           }
          ],
          "histogram2dcontour": [
           {
            "colorbar": {
             "outlinewidth": 0,
             "ticks": ""
            },
            "colorscale": [
             [
              0,
              "#0d0887"
             ],
             [
              0.1111111111111111,
              "#46039f"
             ],
             [
              0.2222222222222222,
              "#7201a8"
             ],
             [
              0.3333333333333333,
              "#9c179e"
             ],
             [
              0.4444444444444444,
              "#bd3786"
             ],
             [
              0.5555555555555556,
              "#d8576b"
             ],
             [
              0.6666666666666666,
              "#ed7953"
             ],
             [
              0.7777777777777778,
              "#fb9f3a"
             ],
             [
              0.8888888888888888,
              "#fdca26"
             ],
             [
              1,
              "#f0f921"
             ]
            ],
            "type": "histogram2dcontour"
           }
          ],
          "mesh3d": [
           {
            "colorbar": {
             "outlinewidth": 0,
             "ticks": ""
            },
            "type": "mesh3d"
           }
          ],
          "parcoords": [
           {
            "line": {
             "colorbar": {
              "outlinewidth": 0,
              "ticks": ""
             }
            },
            "type": "parcoords"
           }
          ],
          "pie": [
           {
            "automargin": true,
            "type": "pie"
           }
          ],
          "scatter": [
           {
            "marker": {
             "colorbar": {
              "outlinewidth": 0,
              "ticks": ""
             }
            },
            "type": "scatter"
           }
          ],
          "scatter3d": [
           {
            "line": {
             "colorbar": {
              "outlinewidth": 0,
              "ticks": ""
             }
            },
            "marker": {
             "colorbar": {
              "outlinewidth": 0,
              "ticks": ""
             }
            },
            "type": "scatter3d"
           }
          ],
          "scattercarpet": [
           {
            "marker": {
             "colorbar": {
              "outlinewidth": 0,
              "ticks": ""
             }
            },
            "type": "scattercarpet"
           }
          ],
          "scattergeo": [
           {
            "marker": {
             "colorbar": {
              "outlinewidth": 0,
              "ticks": ""
             }
            },
            "type": "scattergeo"
           }
          ],
          "scattergl": [
           {
            "marker": {
             "colorbar": {
              "outlinewidth": 0,
              "ticks": ""
             }
            },
            "type": "scattergl"
           }
          ],
          "scattermapbox": [
           {
            "marker": {
             "colorbar": {
              "outlinewidth": 0,
              "ticks": ""
             }
            },
            "type": "scattermapbox"
           }
          ],
          "scatterpolar": [
           {
            "marker": {
             "colorbar": {
              "outlinewidth": 0,
              "ticks": ""
             }
            },
            "type": "scatterpolar"
           }
          ],
          "scatterpolargl": [
           {
            "marker": {
             "colorbar": {
              "outlinewidth": 0,
              "ticks": ""
             }
            },
            "type": "scatterpolargl"
           }
          ],
          "scatterternary": [
           {
            "marker": {
             "colorbar": {
              "outlinewidth": 0,
              "ticks": ""
             }
            },
            "type": "scatterternary"
           }
          ],
          "surface": [
           {
            "colorbar": {
             "outlinewidth": 0,
             "ticks": ""
            },
            "colorscale": [
             [
              0,
              "#0d0887"
             ],
             [
              0.1111111111111111,
              "#46039f"
             ],
             [
              0.2222222222222222,
              "#7201a8"
             ],
             [
              0.3333333333333333,
              "#9c179e"
             ],
             [
              0.4444444444444444,
              "#bd3786"
             ],
             [
              0.5555555555555556,
              "#d8576b"
             ],
             [
              0.6666666666666666,
              "#ed7953"
             ],
             [
              0.7777777777777778,
              "#fb9f3a"
             ],
             [
              0.8888888888888888,
              "#fdca26"
             ],
             [
              1,
              "#f0f921"
             ]
            ],
            "type": "surface"
           }
          ],
          "table": [
           {
            "cells": {
             "fill": {
              "color": "#EBF0F8"
             },
             "line": {
              "color": "white"
             }
            },
            "header": {
             "fill": {
              "color": "#C8D4E3"
             },
             "line": {
              "color": "white"
             }
            },
            "type": "table"
           }
          ]
         },
         "layout": {
          "annotationdefaults": {
           "arrowcolor": "#2a3f5f",
           "arrowhead": 0,
           "arrowwidth": 1
          },
          "autotypenumbers": "strict",
          "coloraxis": {
           "colorbar": {
            "outlinewidth": 0,
            "ticks": ""
           }
          },
          "colorscale": {
           "diverging": [
            [
             0,
             "#8e0152"
            ],
            [
             0.1,
             "#c51b7d"
            ],
            [
             0.2,
             "#de77ae"
            ],
            [
             0.3,
             "#f1b6da"
            ],
            [
             0.4,
             "#fde0ef"
            ],
            [
             0.5,
             "#f7f7f7"
            ],
            [
             0.6,
             "#e6f5d0"
            ],
            [
             0.7,
             "#b8e186"
            ],
            [
             0.8,
             "#7fbc41"
            ],
            [
             0.9,
             "#4d9221"
            ],
            [
             1,
             "#276419"
            ]
           ],
           "sequential": [
            [
             0,
             "#0d0887"
            ],
            [
             0.1111111111111111,
             "#46039f"
            ],
            [
             0.2222222222222222,
             "#7201a8"
            ],
            [
             0.3333333333333333,
             "#9c179e"
            ],
            [
             0.4444444444444444,
             "#bd3786"
            ],
            [
             0.5555555555555556,
             "#d8576b"
            ],
            [
             0.6666666666666666,
             "#ed7953"
            ],
            [
             0.7777777777777778,
             "#fb9f3a"
            ],
            [
             0.8888888888888888,
             "#fdca26"
            ],
            [
             1,
             "#f0f921"
            ]
           ],
           "sequentialminus": [
            [
             0,
             "#0d0887"
            ],
            [
             0.1111111111111111,
             "#46039f"
            ],
            [
             0.2222222222222222,
             "#7201a8"
            ],
            [
             0.3333333333333333,
             "#9c179e"
            ],
            [
             0.4444444444444444,
             "#bd3786"
            ],
            [
             0.5555555555555556,
             "#d8576b"
            ],
            [
             0.6666666666666666,
             "#ed7953"
            ],
            [
             0.7777777777777778,
             "#fb9f3a"
            ],
            [
             0.8888888888888888,
             "#fdca26"
            ],
            [
             1,
             "#f0f921"
            ]
           ]
          },
          "colorway": [
           "#636efa",
           "#EF553B",
           "#00cc96",
           "#ab63fa",
           "#FFA15A",
           "#19d3f3",
           "#FF6692",
           "#B6E880",
           "#FF97FF",
           "#FECB52"
          ],
          "font": {
           "color": "#2a3f5f"
          },
          "geo": {
           "bgcolor": "white",
           "lakecolor": "white",
           "landcolor": "#E5ECF6",
           "showlakes": true,
           "showland": true,
           "subunitcolor": "white"
          },
          "hoverlabel": {
           "align": "left"
          },
          "hovermode": "closest",
          "mapbox": {
           "style": "light"
          },
          "paper_bgcolor": "white",
          "plot_bgcolor": "#E5ECF6",
          "polar": {
           "angularaxis": {
            "gridcolor": "white",
            "linecolor": "white",
            "ticks": ""
           },
           "bgcolor": "#E5ECF6",
           "radialaxis": {
            "gridcolor": "white",
            "linecolor": "white",
            "ticks": ""
           }
          },
          "scene": {
           "xaxis": {
            "backgroundcolor": "#E5ECF6",
            "gridcolor": "white",
            "gridwidth": 2,
            "linecolor": "white",
            "showbackground": true,
            "ticks": "",
            "zerolinecolor": "white"
           },
           "yaxis": {
            "backgroundcolor": "#E5ECF6",
            "gridcolor": "white",
            "gridwidth": 2,
            "linecolor": "white",
            "showbackground": true,
            "ticks": "",
            "zerolinecolor": "white"
           },
           "zaxis": {
            "backgroundcolor": "#E5ECF6",
            "gridcolor": "white",
            "gridwidth": 2,
            "linecolor": "white",
            "showbackground": true,
            "ticks": "",
            "zerolinecolor": "white"
           }
          },
          "shapedefaults": {
           "line": {
            "color": "#2a3f5f"
           }
          },
          "ternary": {
           "aaxis": {
            "gridcolor": "white",
            "linecolor": "white",
            "ticks": ""
           },
           "baxis": {
            "gridcolor": "white",
            "linecolor": "white",
            "ticks": ""
           },
           "bgcolor": "#E5ECF6",
           "caxis": {
            "gridcolor": "white",
            "linecolor": "white",
            "ticks": ""
           }
          },
          "title": {
           "x": 0.05
          },
          "xaxis": {
           "automargin": true,
           "gridcolor": "white",
           "linecolor": "white",
           "ticks": "",
           "title": {
            "standoff": 15
           },
           "zerolinecolor": "white",
           "zerolinewidth": 2
          },
          "yaxis": {
           "automargin": true,
           "gridcolor": "white",
           "linecolor": "white",
           "ticks": "",
           "title": {
            "standoff": 15
           },
           "zerolinecolor": "white",
           "zerolinewidth": 2
          }
         }
        },
        "xaxis": {
         "dtick": 1,
         "gridcolor": "rgb(0, 0, 0)",
         "side": "top",
         "ticks": ""
        },
        "yaxis": {
         "dtick": 1,
         "ticks": "",
         "ticksuffix": "  "
        }
       }
      },
      "text/html": [
       "<div>                            <div id=\"9cc723c2-321c-41a1-848b-e31680528c76\" class=\"plotly-graph-div\" style=\"height:525px; width:100%;\"></div>            <script type=\"text/javascript\">                require([\"plotly\"], function(Plotly) {                    window.PLOTLYENV=window.PLOTLYENV || {};                                    if (document.getElementById(\"9cc723c2-321c-41a1-848b-e31680528c76\")) {                    Plotly.newPlot(                        \"9cc723c2-321c-41a1-848b-e31680528c76\",                        [{\"colorscale\":[[0.0,\"#440154\"],[0.1111111111111111,\"#482878\"],[0.2222222222222222,\"#3e4989\"],[0.3333333333333333,\"#31688e\"],[0.4444444444444444,\"#26828e\"],[0.5555555555555556,\"#1f9e89\"],[0.6666666666666666,\"#35b779\"],[0.7777777777777778,\"#6ece58\"],[0.8888888888888888,\"#b5de2b\"],[1.0,\"#fde725\"]],\"hoverinfo\":\"z\",\"reversescale\":false,\"showscale\":false,\"x\":[\"CNT_CHILDREN\",\"AMT_INCOME_TOTAL\",\"FLAG_MOBIL\",\"FLAG_WORK_PHONE\",\"FLAG_PHONE\",\"FLAG_EMAIL\",\"CNT_FAM_MEMBERS\",\"MONTHS_BALANCE\",\"AGE\",\"WORKTERM\"],\"y\":[\"CNT_CHILDREN\",\"AMT_INCOME_TOTAL\",\"FLAG_MOBIL\",\"FLAG_WORK_PHONE\",\"FLAG_PHONE\",\"FLAG_EMAIL\",\"CNT_FAM_MEMBERS\",\"MONTHS_BALANCE\",\"AGE\",\"WORKTERM\"],\"z\":[[1.0,0.054274973239303616,null,0.035105987990647416,-0.02951493247341798,0.019944078321412408,0.8238284344872142,0.004748256886531841,-0.39483619752843013,0.1347662930247065],[0.054274973239303616,1.0,null,-0.03446057881234231,0.0010846701609800063,0.08684877708093251,0.03732439987834799,-0.005802413743770354,-0.11438899479495448,0.16408125824636735],[null,null,null,null,null,null,null,null,null,null],[0.035105987990647416,-0.03446057881234231,null,1.0,0.30964123715693537,-0.04138056929458915,0.05494720504846658,-0.0012170370876465472,-0.17714737608601375,0.16752704693242626],[-0.02951493247341798,0.0010846701609800063,null,0.30964123715693537,1.0,0.009019399593989251,-0.010806928223837282,-0.006734741305147041,0.030887544350093624,0.03469991510122604],[0.019944078321412408,0.08684877708093251,null,-0.04138056929458915,0.009019399593989251,1.0,0.009181636382893607,0.008351583701046023,-0.10142561275976818,0.020088925027753498],[0.8238284344872142,0.03732439987834799,null,0.05494720504846658,-0.010806928223837282,0.009181636382893607,1.0,-0.007797121146918483,-0.319085472744373,0.1425612771719874],[0.004748256886531841,-0.005802413743770354,null,-0.0012170370876465472,-0.006734741305147041,0.008351583701046023,-0.007797121146918483,1.0,-0.04198249121042836,-0.03833933477458755],[-0.39483619752843013,-0.11438899479495448,null,-0.17714737608601375,0.030887544350093624,-0.10142561275976818,-0.319085472744373,-0.04198249121042836,1.0,-0.22407140766302824],[0.1347662930247065,0.16408125824636735,null,0.16752704693242626,0.03469991510122604,0.020088925027753498,0.1425612771719874,-0.03833933477458755,-0.22407140766302824,1.0]],\"type\":\"heatmap\"}],                        {\"annotations\":[{\"font\":{\"color\":\"#000000\"},\"showarrow\":false,\"text\":\"1.0\",\"x\":\"CNT_CHILDREN\",\"xref\":\"x\",\"y\":\"CNT_CHILDREN\",\"yref\":\"y\"},{\"font\":{\"color\":\"#000000\"},\"showarrow\":false,\"text\":\"0.05\",\"x\":\"AMT_INCOME_TOTAL\",\"xref\":\"x\",\"y\":\"CNT_CHILDREN\",\"yref\":\"y\"},{\"font\":{\"color\":\"#000000\"},\"showarrow\":false,\"text\":\"nan\",\"x\":\"FLAG_MOBIL\",\"xref\":\"x\",\"y\":\"CNT_CHILDREN\",\"yref\":\"y\"},{\"font\":{\"color\":\"#000000\"},\"showarrow\":false,\"text\":\"0.04\",\"x\":\"FLAG_WORK_PHONE\",\"xref\":\"x\",\"y\":\"CNT_CHILDREN\",\"yref\":\"y\"},{\"font\":{\"color\":\"#000000\"},\"showarrow\":false,\"text\":\"-0.03\",\"x\":\"FLAG_PHONE\",\"xref\":\"x\",\"y\":\"CNT_CHILDREN\",\"yref\":\"y\"},{\"font\":{\"color\":\"#000000\"},\"showarrow\":false,\"text\":\"0.02\",\"x\":\"FLAG_EMAIL\",\"xref\":\"x\",\"y\":\"CNT_CHILDREN\",\"yref\":\"y\"},{\"font\":{\"color\":\"#000000\"},\"showarrow\":false,\"text\":\"0.82\",\"x\":\"CNT_FAM_MEMBERS\",\"xref\":\"x\",\"y\":\"CNT_CHILDREN\",\"yref\":\"y\"},{\"font\":{\"color\":\"#000000\"},\"showarrow\":false,\"text\":\"0.0\",\"x\":\"MONTHS_BALANCE\",\"xref\":\"x\",\"y\":\"CNT_CHILDREN\",\"yref\":\"y\"},{\"font\":{\"color\":\"#000000\"},\"showarrow\":false,\"text\":\"-0.39\",\"x\":\"AGE\",\"xref\":\"x\",\"y\":\"CNT_CHILDREN\",\"yref\":\"y\"},{\"font\":{\"color\":\"#000000\"},\"showarrow\":false,\"text\":\"0.13\",\"x\":\"WORKTERM\",\"xref\":\"x\",\"y\":\"CNT_CHILDREN\",\"yref\":\"y\"},{\"font\":{\"color\":\"#000000\"},\"showarrow\":false,\"text\":\"0.05\",\"x\":\"CNT_CHILDREN\",\"xref\":\"x\",\"y\":\"AMT_INCOME_TOTAL\",\"yref\":\"y\"},{\"font\":{\"color\":\"#000000\"},\"showarrow\":false,\"text\":\"1.0\",\"x\":\"AMT_INCOME_TOTAL\",\"xref\":\"x\",\"y\":\"AMT_INCOME_TOTAL\",\"yref\":\"y\"},{\"font\":{\"color\":\"#000000\"},\"showarrow\":false,\"text\":\"nan\",\"x\":\"FLAG_MOBIL\",\"xref\":\"x\",\"y\":\"AMT_INCOME_TOTAL\",\"yref\":\"y\"},{\"font\":{\"color\":\"#000000\"},\"showarrow\":false,\"text\":\"-0.03\",\"x\":\"FLAG_WORK_PHONE\",\"xref\":\"x\",\"y\":\"AMT_INCOME_TOTAL\",\"yref\":\"y\"},{\"font\":{\"color\":\"#000000\"},\"showarrow\":false,\"text\":\"0.0\",\"x\":\"FLAG_PHONE\",\"xref\":\"x\",\"y\":\"AMT_INCOME_TOTAL\",\"yref\":\"y\"},{\"font\":{\"color\":\"#000000\"},\"showarrow\":false,\"text\":\"0.09\",\"x\":\"FLAG_EMAIL\",\"xref\":\"x\",\"y\":\"AMT_INCOME_TOTAL\",\"yref\":\"y\"},{\"font\":{\"color\":\"#000000\"},\"showarrow\":false,\"text\":\"0.04\",\"x\":\"CNT_FAM_MEMBERS\",\"xref\":\"x\",\"y\":\"AMT_INCOME_TOTAL\",\"yref\":\"y\"},{\"font\":{\"color\":\"#000000\"},\"showarrow\":false,\"text\":\"-0.01\",\"x\":\"MONTHS_BALANCE\",\"xref\":\"x\",\"y\":\"AMT_INCOME_TOTAL\",\"yref\":\"y\"},{\"font\":{\"color\":\"#000000\"},\"showarrow\":false,\"text\":\"-0.11\",\"x\":\"AGE\",\"xref\":\"x\",\"y\":\"AMT_INCOME_TOTAL\",\"yref\":\"y\"},{\"font\":{\"color\":\"#000000\"},\"showarrow\":false,\"text\":\"0.16\",\"x\":\"WORKTERM\",\"xref\":\"x\",\"y\":\"AMT_INCOME_TOTAL\",\"yref\":\"y\"},{\"font\":{\"color\":\"#000000\"},\"showarrow\":false,\"text\":\"nan\",\"x\":\"CNT_CHILDREN\",\"xref\":\"x\",\"y\":\"FLAG_MOBIL\",\"yref\":\"y\"},{\"font\":{\"color\":\"#000000\"},\"showarrow\":false,\"text\":\"nan\",\"x\":\"AMT_INCOME_TOTAL\",\"xref\":\"x\",\"y\":\"FLAG_MOBIL\",\"yref\":\"y\"},{\"font\":{\"color\":\"#000000\"},\"showarrow\":false,\"text\":\"nan\",\"x\":\"FLAG_MOBIL\",\"xref\":\"x\",\"y\":\"FLAG_MOBIL\",\"yref\":\"y\"},{\"font\":{\"color\":\"#000000\"},\"showarrow\":false,\"text\":\"nan\",\"x\":\"FLAG_WORK_PHONE\",\"xref\":\"x\",\"y\":\"FLAG_MOBIL\",\"yref\":\"y\"},{\"font\":{\"color\":\"#000000\"},\"showarrow\":false,\"text\":\"nan\",\"x\":\"FLAG_PHONE\",\"xref\":\"x\",\"y\":\"FLAG_MOBIL\",\"yref\":\"y\"},{\"font\":{\"color\":\"#000000\"},\"showarrow\":false,\"text\":\"nan\",\"x\":\"FLAG_EMAIL\",\"xref\":\"x\",\"y\":\"FLAG_MOBIL\",\"yref\":\"y\"},{\"font\":{\"color\":\"#000000\"},\"showarrow\":false,\"text\":\"nan\",\"x\":\"CNT_FAM_MEMBERS\",\"xref\":\"x\",\"y\":\"FLAG_MOBIL\",\"yref\":\"y\"},{\"font\":{\"color\":\"#000000\"},\"showarrow\":false,\"text\":\"nan\",\"x\":\"MONTHS_BALANCE\",\"xref\":\"x\",\"y\":\"FLAG_MOBIL\",\"yref\":\"y\"},{\"font\":{\"color\":\"#000000\"},\"showarrow\":false,\"text\":\"nan\",\"x\":\"AGE\",\"xref\":\"x\",\"y\":\"FLAG_MOBIL\",\"yref\":\"y\"},{\"font\":{\"color\":\"#000000\"},\"showarrow\":false,\"text\":\"nan\",\"x\":\"WORKTERM\",\"xref\":\"x\",\"y\":\"FLAG_MOBIL\",\"yref\":\"y\"},{\"font\":{\"color\":\"#000000\"},\"showarrow\":false,\"text\":\"0.04\",\"x\":\"CNT_CHILDREN\",\"xref\":\"x\",\"y\":\"FLAG_WORK_PHONE\",\"yref\":\"y\"},{\"font\":{\"color\":\"#000000\"},\"showarrow\":false,\"text\":\"-0.03\",\"x\":\"AMT_INCOME_TOTAL\",\"xref\":\"x\",\"y\":\"FLAG_WORK_PHONE\",\"yref\":\"y\"},{\"font\":{\"color\":\"#000000\"},\"showarrow\":false,\"text\":\"nan\",\"x\":\"FLAG_MOBIL\",\"xref\":\"x\",\"y\":\"FLAG_WORK_PHONE\",\"yref\":\"y\"},{\"font\":{\"color\":\"#000000\"},\"showarrow\":false,\"text\":\"1.0\",\"x\":\"FLAG_WORK_PHONE\",\"xref\":\"x\",\"y\":\"FLAG_WORK_PHONE\",\"yref\":\"y\"},{\"font\":{\"color\":\"#000000\"},\"showarrow\":false,\"text\":\"0.31\",\"x\":\"FLAG_PHONE\",\"xref\":\"x\",\"y\":\"FLAG_WORK_PHONE\",\"yref\":\"y\"},{\"font\":{\"color\":\"#000000\"},\"showarrow\":false,\"text\":\"-0.04\",\"x\":\"FLAG_EMAIL\",\"xref\":\"x\",\"y\":\"FLAG_WORK_PHONE\",\"yref\":\"y\"},{\"font\":{\"color\":\"#000000\"},\"showarrow\":false,\"text\":\"0.05\",\"x\":\"CNT_FAM_MEMBERS\",\"xref\":\"x\",\"y\":\"FLAG_WORK_PHONE\",\"yref\":\"y\"},{\"font\":{\"color\":\"#000000\"},\"showarrow\":false,\"text\":\"-0.0\",\"x\":\"MONTHS_BALANCE\",\"xref\":\"x\",\"y\":\"FLAG_WORK_PHONE\",\"yref\":\"y\"},{\"font\":{\"color\":\"#000000\"},\"showarrow\":false,\"text\":\"-0.18\",\"x\":\"AGE\",\"xref\":\"x\",\"y\":\"FLAG_WORK_PHONE\",\"yref\":\"y\"},{\"font\":{\"color\":\"#000000\"},\"showarrow\":false,\"text\":\"0.17\",\"x\":\"WORKTERM\",\"xref\":\"x\",\"y\":\"FLAG_WORK_PHONE\",\"yref\":\"y\"},{\"font\":{\"color\":\"#000000\"},\"showarrow\":false,\"text\":\"-0.03\",\"x\":\"CNT_CHILDREN\",\"xref\":\"x\",\"y\":\"FLAG_PHONE\",\"yref\":\"y\"},{\"font\":{\"color\":\"#000000\"},\"showarrow\":false,\"text\":\"0.0\",\"x\":\"AMT_INCOME_TOTAL\",\"xref\":\"x\",\"y\":\"FLAG_PHONE\",\"yref\":\"y\"},{\"font\":{\"color\":\"#000000\"},\"showarrow\":false,\"text\":\"nan\",\"x\":\"FLAG_MOBIL\",\"xref\":\"x\",\"y\":\"FLAG_PHONE\",\"yref\":\"y\"},{\"font\":{\"color\":\"#000000\"},\"showarrow\":false,\"text\":\"0.31\",\"x\":\"FLAG_WORK_PHONE\",\"xref\":\"x\",\"y\":\"FLAG_PHONE\",\"yref\":\"y\"},{\"font\":{\"color\":\"#000000\"},\"showarrow\":false,\"text\":\"1.0\",\"x\":\"FLAG_PHONE\",\"xref\":\"x\",\"y\":\"FLAG_PHONE\",\"yref\":\"y\"},{\"font\":{\"color\":\"#000000\"},\"showarrow\":false,\"text\":\"0.01\",\"x\":\"FLAG_EMAIL\",\"xref\":\"x\",\"y\":\"FLAG_PHONE\",\"yref\":\"y\"},{\"font\":{\"color\":\"#000000\"},\"showarrow\":false,\"text\":\"-0.01\",\"x\":\"CNT_FAM_MEMBERS\",\"xref\":\"x\",\"y\":\"FLAG_PHONE\",\"yref\":\"y\"},{\"font\":{\"color\":\"#000000\"},\"showarrow\":false,\"text\":\"-0.01\",\"x\":\"MONTHS_BALANCE\",\"xref\":\"x\",\"y\":\"FLAG_PHONE\",\"yref\":\"y\"},{\"font\":{\"color\":\"#000000\"},\"showarrow\":false,\"text\":\"0.03\",\"x\":\"AGE\",\"xref\":\"x\",\"y\":\"FLAG_PHONE\",\"yref\":\"y\"},{\"font\":{\"color\":\"#000000\"},\"showarrow\":false,\"text\":\"0.03\",\"x\":\"WORKTERM\",\"xref\":\"x\",\"y\":\"FLAG_PHONE\",\"yref\":\"y\"},{\"font\":{\"color\":\"#000000\"},\"showarrow\":false,\"text\":\"0.02\",\"x\":\"CNT_CHILDREN\",\"xref\":\"x\",\"y\":\"FLAG_EMAIL\",\"yref\":\"y\"},{\"font\":{\"color\":\"#000000\"},\"showarrow\":false,\"text\":\"0.09\",\"x\":\"AMT_INCOME_TOTAL\",\"xref\":\"x\",\"y\":\"FLAG_EMAIL\",\"yref\":\"y\"},{\"font\":{\"color\":\"#000000\"},\"showarrow\":false,\"text\":\"nan\",\"x\":\"FLAG_MOBIL\",\"xref\":\"x\",\"y\":\"FLAG_EMAIL\",\"yref\":\"y\"},{\"font\":{\"color\":\"#000000\"},\"showarrow\":false,\"text\":\"-0.04\",\"x\":\"FLAG_WORK_PHONE\",\"xref\":\"x\",\"y\":\"FLAG_EMAIL\",\"yref\":\"y\"},{\"font\":{\"color\":\"#000000\"},\"showarrow\":false,\"text\":\"0.01\",\"x\":\"FLAG_PHONE\",\"xref\":\"x\",\"y\":\"FLAG_EMAIL\",\"yref\":\"y\"},{\"font\":{\"color\":\"#000000\"},\"showarrow\":false,\"text\":\"1.0\",\"x\":\"FLAG_EMAIL\",\"xref\":\"x\",\"y\":\"FLAG_EMAIL\",\"yref\":\"y\"},{\"font\":{\"color\":\"#000000\"},\"showarrow\":false,\"text\":\"0.01\",\"x\":\"CNT_FAM_MEMBERS\",\"xref\":\"x\",\"y\":\"FLAG_EMAIL\",\"yref\":\"y\"},{\"font\":{\"color\":\"#000000\"},\"showarrow\":false,\"text\":\"0.01\",\"x\":\"MONTHS_BALANCE\",\"xref\":\"x\",\"y\":\"FLAG_EMAIL\",\"yref\":\"y\"},{\"font\":{\"color\":\"#000000\"},\"showarrow\":false,\"text\":\"-0.1\",\"x\":\"AGE\",\"xref\":\"x\",\"y\":\"FLAG_EMAIL\",\"yref\":\"y\"},{\"font\":{\"color\":\"#000000\"},\"showarrow\":false,\"text\":\"0.02\",\"x\":\"WORKTERM\",\"xref\":\"x\",\"y\":\"FLAG_EMAIL\",\"yref\":\"y\"},{\"font\":{\"color\":\"#000000\"},\"showarrow\":false,\"text\":\"0.82\",\"x\":\"CNT_CHILDREN\",\"xref\":\"x\",\"y\":\"CNT_FAM_MEMBERS\",\"yref\":\"y\"},{\"font\":{\"color\":\"#000000\"},\"showarrow\":false,\"text\":\"0.04\",\"x\":\"AMT_INCOME_TOTAL\",\"xref\":\"x\",\"y\":\"CNT_FAM_MEMBERS\",\"yref\":\"y\"},{\"font\":{\"color\":\"#000000\"},\"showarrow\":false,\"text\":\"nan\",\"x\":\"FLAG_MOBIL\",\"xref\":\"x\",\"y\":\"CNT_FAM_MEMBERS\",\"yref\":\"y\"},{\"font\":{\"color\":\"#000000\"},\"showarrow\":false,\"text\":\"0.05\",\"x\":\"FLAG_WORK_PHONE\",\"xref\":\"x\",\"y\":\"CNT_FAM_MEMBERS\",\"yref\":\"y\"},{\"font\":{\"color\":\"#000000\"},\"showarrow\":false,\"text\":\"-0.01\",\"x\":\"FLAG_PHONE\",\"xref\":\"x\",\"y\":\"CNT_FAM_MEMBERS\",\"yref\":\"y\"},{\"font\":{\"color\":\"#000000\"},\"showarrow\":false,\"text\":\"0.01\",\"x\":\"FLAG_EMAIL\",\"xref\":\"x\",\"y\":\"CNT_FAM_MEMBERS\",\"yref\":\"y\"},{\"font\":{\"color\":\"#000000\"},\"showarrow\":false,\"text\":\"1.0\",\"x\":\"CNT_FAM_MEMBERS\",\"xref\":\"x\",\"y\":\"CNT_FAM_MEMBERS\",\"yref\":\"y\"},{\"font\":{\"color\":\"#000000\"},\"showarrow\":false,\"text\":\"-0.01\",\"x\":\"MONTHS_BALANCE\",\"xref\":\"x\",\"y\":\"CNT_FAM_MEMBERS\",\"yref\":\"y\"},{\"font\":{\"color\":\"#000000\"},\"showarrow\":false,\"text\":\"-0.32\",\"x\":\"AGE\",\"xref\":\"x\",\"y\":\"CNT_FAM_MEMBERS\",\"yref\":\"y\"},{\"font\":{\"color\":\"#000000\"},\"showarrow\":false,\"text\":\"0.14\",\"x\":\"WORKTERM\",\"xref\":\"x\",\"y\":\"CNT_FAM_MEMBERS\",\"yref\":\"y\"},{\"font\":{\"color\":\"#000000\"},\"showarrow\":false,\"text\":\"0.0\",\"x\":\"CNT_CHILDREN\",\"xref\":\"x\",\"y\":\"MONTHS_BALANCE\",\"yref\":\"y\"},{\"font\":{\"color\":\"#000000\"},\"showarrow\":false,\"text\":\"-0.01\",\"x\":\"AMT_INCOME_TOTAL\",\"xref\":\"x\",\"y\":\"MONTHS_BALANCE\",\"yref\":\"y\"},{\"font\":{\"color\":\"#000000\"},\"showarrow\":false,\"text\":\"nan\",\"x\":\"FLAG_MOBIL\",\"xref\":\"x\",\"y\":\"MONTHS_BALANCE\",\"yref\":\"y\"},{\"font\":{\"color\":\"#000000\"},\"showarrow\":false,\"text\":\"-0.0\",\"x\":\"FLAG_WORK_PHONE\",\"xref\":\"x\",\"y\":\"MONTHS_BALANCE\",\"yref\":\"y\"},{\"font\":{\"color\":\"#000000\"},\"showarrow\":false,\"text\":\"-0.01\",\"x\":\"FLAG_PHONE\",\"xref\":\"x\",\"y\":\"MONTHS_BALANCE\",\"yref\":\"y\"},{\"font\":{\"color\":\"#000000\"},\"showarrow\":false,\"text\":\"0.01\",\"x\":\"FLAG_EMAIL\",\"xref\":\"x\",\"y\":\"MONTHS_BALANCE\",\"yref\":\"y\"},{\"font\":{\"color\":\"#000000\"},\"showarrow\":false,\"text\":\"-0.01\",\"x\":\"CNT_FAM_MEMBERS\",\"xref\":\"x\",\"y\":\"MONTHS_BALANCE\",\"yref\":\"y\"},{\"font\":{\"color\":\"#000000\"},\"showarrow\":false,\"text\":\"1.0\",\"x\":\"MONTHS_BALANCE\",\"xref\":\"x\",\"y\":\"MONTHS_BALANCE\",\"yref\":\"y\"},{\"font\":{\"color\":\"#000000\"},\"showarrow\":false,\"text\":\"-0.04\",\"x\":\"AGE\",\"xref\":\"x\",\"y\":\"MONTHS_BALANCE\",\"yref\":\"y\"},{\"font\":{\"color\":\"#000000\"},\"showarrow\":false,\"text\":\"-0.04\",\"x\":\"WORKTERM\",\"xref\":\"x\",\"y\":\"MONTHS_BALANCE\",\"yref\":\"y\"},{\"font\":{\"color\":\"#000000\"},\"showarrow\":false,\"text\":\"-0.39\",\"x\":\"CNT_CHILDREN\",\"xref\":\"x\",\"y\":\"AGE\",\"yref\":\"y\"},{\"font\":{\"color\":\"#000000\"},\"showarrow\":false,\"text\":\"-0.11\",\"x\":\"AMT_INCOME_TOTAL\",\"xref\":\"x\",\"y\":\"AGE\",\"yref\":\"y\"},{\"font\":{\"color\":\"#000000\"},\"showarrow\":false,\"text\":\"nan\",\"x\":\"FLAG_MOBIL\",\"xref\":\"x\",\"y\":\"AGE\",\"yref\":\"y\"},{\"font\":{\"color\":\"#000000\"},\"showarrow\":false,\"text\":\"-0.18\",\"x\":\"FLAG_WORK_PHONE\",\"xref\":\"x\",\"y\":\"AGE\",\"yref\":\"y\"},{\"font\":{\"color\":\"#000000\"},\"showarrow\":false,\"text\":\"0.03\",\"x\":\"FLAG_PHONE\",\"xref\":\"x\",\"y\":\"AGE\",\"yref\":\"y\"},{\"font\":{\"color\":\"#000000\"},\"showarrow\":false,\"text\":\"-0.1\",\"x\":\"FLAG_EMAIL\",\"xref\":\"x\",\"y\":\"AGE\",\"yref\":\"y\"},{\"font\":{\"color\":\"#000000\"},\"showarrow\":false,\"text\":\"-0.32\",\"x\":\"CNT_FAM_MEMBERS\",\"xref\":\"x\",\"y\":\"AGE\",\"yref\":\"y\"},{\"font\":{\"color\":\"#000000\"},\"showarrow\":false,\"text\":\"-0.04\",\"x\":\"MONTHS_BALANCE\",\"xref\":\"x\",\"y\":\"AGE\",\"yref\":\"y\"},{\"font\":{\"color\":\"#000000\"},\"showarrow\":false,\"text\":\"1.0\",\"x\":\"AGE\",\"xref\":\"x\",\"y\":\"AGE\",\"yref\":\"y\"},{\"font\":{\"color\":\"#000000\"},\"showarrow\":false,\"text\":\"-0.22\",\"x\":\"WORKTERM\",\"xref\":\"x\",\"y\":\"AGE\",\"yref\":\"y\"},{\"font\":{\"color\":\"#000000\"},\"showarrow\":false,\"text\":\"0.13\",\"x\":\"CNT_CHILDREN\",\"xref\":\"x\",\"y\":\"WORKTERM\",\"yref\":\"y\"},{\"font\":{\"color\":\"#000000\"},\"showarrow\":false,\"text\":\"0.16\",\"x\":\"AMT_INCOME_TOTAL\",\"xref\":\"x\",\"y\":\"WORKTERM\",\"yref\":\"y\"},{\"font\":{\"color\":\"#000000\"},\"showarrow\":false,\"text\":\"nan\",\"x\":\"FLAG_MOBIL\",\"xref\":\"x\",\"y\":\"WORKTERM\",\"yref\":\"y\"},{\"font\":{\"color\":\"#000000\"},\"showarrow\":false,\"text\":\"0.17\",\"x\":\"FLAG_WORK_PHONE\",\"xref\":\"x\",\"y\":\"WORKTERM\",\"yref\":\"y\"},{\"font\":{\"color\":\"#000000\"},\"showarrow\":false,\"text\":\"0.03\",\"x\":\"FLAG_PHONE\",\"xref\":\"x\",\"y\":\"WORKTERM\",\"yref\":\"y\"},{\"font\":{\"color\":\"#000000\"},\"showarrow\":false,\"text\":\"0.02\",\"x\":\"FLAG_EMAIL\",\"xref\":\"x\",\"y\":\"WORKTERM\",\"yref\":\"y\"},{\"font\":{\"color\":\"#000000\"},\"showarrow\":false,\"text\":\"0.14\",\"x\":\"CNT_FAM_MEMBERS\",\"xref\":\"x\",\"y\":\"WORKTERM\",\"yref\":\"y\"},{\"font\":{\"color\":\"#000000\"},\"showarrow\":false,\"text\":\"-0.04\",\"x\":\"MONTHS_BALANCE\",\"xref\":\"x\",\"y\":\"WORKTERM\",\"yref\":\"y\"},{\"font\":{\"color\":\"#000000\"},\"showarrow\":false,\"text\":\"-0.22\",\"x\":\"AGE\",\"xref\":\"x\",\"y\":\"WORKTERM\",\"yref\":\"y\"},{\"font\":{\"color\":\"#000000\"},\"showarrow\":false,\"text\":\"1.0\",\"x\":\"WORKTERM\",\"xref\":\"x\",\"y\":\"WORKTERM\",\"yref\":\"y\"}],\"xaxis\":{\"dtick\":1,\"gridcolor\":\"rgb(0, 0, 0)\",\"side\":\"top\",\"ticks\":\"\"},\"yaxis\":{\"dtick\":1,\"ticks\":\"\",\"ticksuffix\":\"  \"},\"template\":{\"data\":{\"bar\":[{\"error_x\":{\"color\":\"#2a3f5f\"},\"error_y\":{\"color\":\"#2a3f5f\"},\"marker\":{\"line\":{\"color\":\"#E5ECF6\",\"width\":0.5},\"pattern\":{\"fillmode\":\"overlay\",\"size\":10,\"solidity\":0.2}},\"type\":\"bar\"}],\"barpolar\":[{\"marker\":{\"line\":{\"color\":\"#E5ECF6\",\"width\":0.5},\"pattern\":{\"fillmode\":\"overlay\",\"size\":10,\"solidity\":0.2}},\"type\":\"barpolar\"}],\"carpet\":[{\"aaxis\":{\"endlinecolor\":\"#2a3f5f\",\"gridcolor\":\"white\",\"linecolor\":\"white\",\"minorgridcolor\":\"white\",\"startlinecolor\":\"#2a3f5f\"},\"baxis\":{\"endlinecolor\":\"#2a3f5f\",\"gridcolor\":\"white\",\"linecolor\":\"white\",\"minorgridcolor\":\"white\",\"startlinecolor\":\"#2a3f5f\"},\"type\":\"carpet\"}],\"choropleth\":[{\"colorbar\":{\"outlinewidth\":0,\"ticks\":\"\"},\"type\":\"choropleth\"}],\"contour\":[{\"colorbar\":{\"outlinewidth\":0,\"ticks\":\"\"},\"colorscale\":[[0.0,\"#0d0887\"],[0.1111111111111111,\"#46039f\"],[0.2222222222222222,\"#7201a8\"],[0.3333333333333333,\"#9c179e\"],[0.4444444444444444,\"#bd3786\"],[0.5555555555555556,\"#d8576b\"],[0.6666666666666666,\"#ed7953\"],[0.7777777777777778,\"#fb9f3a\"],[0.8888888888888888,\"#fdca26\"],[1.0,\"#f0f921\"]],\"type\":\"contour\"}],\"contourcarpet\":[{\"colorbar\":{\"outlinewidth\":0,\"ticks\":\"\"},\"type\":\"contourcarpet\"}],\"heatmap\":[{\"colorbar\":{\"outlinewidth\":0,\"ticks\":\"\"},\"colorscale\":[[0.0,\"#0d0887\"],[0.1111111111111111,\"#46039f\"],[0.2222222222222222,\"#7201a8\"],[0.3333333333333333,\"#9c179e\"],[0.4444444444444444,\"#bd3786\"],[0.5555555555555556,\"#d8576b\"],[0.6666666666666666,\"#ed7953\"],[0.7777777777777778,\"#fb9f3a\"],[0.8888888888888888,\"#fdca26\"],[1.0,\"#f0f921\"]],\"type\":\"heatmap\"}],\"heatmapgl\":[{\"colorbar\":{\"outlinewidth\":0,\"ticks\":\"\"},\"colorscale\":[[0.0,\"#0d0887\"],[0.1111111111111111,\"#46039f\"],[0.2222222222222222,\"#7201a8\"],[0.3333333333333333,\"#9c179e\"],[0.4444444444444444,\"#bd3786\"],[0.5555555555555556,\"#d8576b\"],[0.6666666666666666,\"#ed7953\"],[0.7777777777777778,\"#fb9f3a\"],[0.8888888888888888,\"#fdca26\"],[1.0,\"#f0f921\"]],\"type\":\"heatmapgl\"}],\"histogram\":[{\"marker\":{\"pattern\":{\"fillmode\":\"overlay\",\"size\":10,\"solidity\":0.2}},\"type\":\"histogram\"}],\"histogram2d\":[{\"colorbar\":{\"outlinewidth\":0,\"ticks\":\"\"},\"colorscale\":[[0.0,\"#0d0887\"],[0.1111111111111111,\"#46039f\"],[0.2222222222222222,\"#7201a8\"],[0.3333333333333333,\"#9c179e\"],[0.4444444444444444,\"#bd3786\"],[0.5555555555555556,\"#d8576b\"],[0.6666666666666666,\"#ed7953\"],[0.7777777777777778,\"#fb9f3a\"],[0.8888888888888888,\"#fdca26\"],[1.0,\"#f0f921\"]],\"type\":\"histogram2d\"}],\"histogram2dcontour\":[{\"colorbar\":{\"outlinewidth\":0,\"ticks\":\"\"},\"colorscale\":[[0.0,\"#0d0887\"],[0.1111111111111111,\"#46039f\"],[0.2222222222222222,\"#7201a8\"],[0.3333333333333333,\"#9c179e\"],[0.4444444444444444,\"#bd3786\"],[0.5555555555555556,\"#d8576b\"],[0.6666666666666666,\"#ed7953\"],[0.7777777777777778,\"#fb9f3a\"],[0.8888888888888888,\"#fdca26\"],[1.0,\"#f0f921\"]],\"type\":\"histogram2dcontour\"}],\"mesh3d\":[{\"colorbar\":{\"outlinewidth\":0,\"ticks\":\"\"},\"type\":\"mesh3d\"}],\"parcoords\":[{\"line\":{\"colorbar\":{\"outlinewidth\":0,\"ticks\":\"\"}},\"type\":\"parcoords\"}],\"pie\":[{\"automargin\":true,\"type\":\"pie\"}],\"scatter\":[{\"marker\":{\"colorbar\":{\"outlinewidth\":0,\"ticks\":\"\"}},\"type\":\"scatter\"}],\"scatter3d\":[{\"line\":{\"colorbar\":{\"outlinewidth\":0,\"ticks\":\"\"}},\"marker\":{\"colorbar\":{\"outlinewidth\":0,\"ticks\":\"\"}},\"type\":\"scatter3d\"}],\"scattercarpet\":[{\"marker\":{\"colorbar\":{\"outlinewidth\":0,\"ticks\":\"\"}},\"type\":\"scattercarpet\"}],\"scattergeo\":[{\"marker\":{\"colorbar\":{\"outlinewidth\":0,\"ticks\":\"\"}},\"type\":\"scattergeo\"}],\"scattergl\":[{\"marker\":{\"colorbar\":{\"outlinewidth\":0,\"ticks\":\"\"}},\"type\":\"scattergl\"}],\"scattermapbox\":[{\"marker\":{\"colorbar\":{\"outlinewidth\":0,\"ticks\":\"\"}},\"type\":\"scattermapbox\"}],\"scatterpolar\":[{\"marker\":{\"colorbar\":{\"outlinewidth\":0,\"ticks\":\"\"}},\"type\":\"scatterpolar\"}],\"scatterpolargl\":[{\"marker\":{\"colorbar\":{\"outlinewidth\":0,\"ticks\":\"\"}},\"type\":\"scatterpolargl\"}],\"scatterternary\":[{\"marker\":{\"colorbar\":{\"outlinewidth\":0,\"ticks\":\"\"}},\"type\":\"scatterternary\"}],\"surface\":[{\"colorbar\":{\"outlinewidth\":0,\"ticks\":\"\"},\"colorscale\":[[0.0,\"#0d0887\"],[0.1111111111111111,\"#46039f\"],[0.2222222222222222,\"#7201a8\"],[0.3333333333333333,\"#9c179e\"],[0.4444444444444444,\"#bd3786\"],[0.5555555555555556,\"#d8576b\"],[0.6666666666666666,\"#ed7953\"],[0.7777777777777778,\"#fb9f3a\"],[0.8888888888888888,\"#fdca26\"],[1.0,\"#f0f921\"]],\"type\":\"surface\"}],\"table\":[{\"cells\":{\"fill\":{\"color\":\"#EBF0F8\"},\"line\":{\"color\":\"white\"}},\"header\":{\"fill\":{\"color\":\"#C8D4E3\"},\"line\":{\"color\":\"white\"}},\"type\":\"table\"}]},\"layout\":{\"annotationdefaults\":{\"arrowcolor\":\"#2a3f5f\",\"arrowhead\":0,\"arrowwidth\":1},\"autotypenumbers\":\"strict\",\"coloraxis\":{\"colorbar\":{\"outlinewidth\":0,\"ticks\":\"\"}},\"colorscale\":{\"diverging\":[[0,\"#8e0152\"],[0.1,\"#c51b7d\"],[0.2,\"#de77ae\"],[0.3,\"#f1b6da\"],[0.4,\"#fde0ef\"],[0.5,\"#f7f7f7\"],[0.6,\"#e6f5d0\"],[0.7,\"#b8e186\"],[0.8,\"#7fbc41\"],[0.9,\"#4d9221\"],[1,\"#276419\"]],\"sequential\":[[0.0,\"#0d0887\"],[0.1111111111111111,\"#46039f\"],[0.2222222222222222,\"#7201a8\"],[0.3333333333333333,\"#9c179e\"],[0.4444444444444444,\"#bd3786\"],[0.5555555555555556,\"#d8576b\"],[0.6666666666666666,\"#ed7953\"],[0.7777777777777778,\"#fb9f3a\"],[0.8888888888888888,\"#fdca26\"],[1.0,\"#f0f921\"]],\"sequentialminus\":[[0.0,\"#0d0887\"],[0.1111111111111111,\"#46039f\"],[0.2222222222222222,\"#7201a8\"],[0.3333333333333333,\"#9c179e\"],[0.4444444444444444,\"#bd3786\"],[0.5555555555555556,\"#d8576b\"],[0.6666666666666666,\"#ed7953\"],[0.7777777777777778,\"#fb9f3a\"],[0.8888888888888888,\"#fdca26\"],[1.0,\"#f0f921\"]]},\"colorway\":[\"#636efa\",\"#EF553B\",\"#00cc96\",\"#ab63fa\",\"#FFA15A\",\"#19d3f3\",\"#FF6692\",\"#B6E880\",\"#FF97FF\",\"#FECB52\"],\"font\":{\"color\":\"#2a3f5f\"},\"geo\":{\"bgcolor\":\"white\",\"lakecolor\":\"white\",\"landcolor\":\"#E5ECF6\",\"showlakes\":true,\"showland\":true,\"subunitcolor\":\"white\"},\"hoverlabel\":{\"align\":\"left\"},\"hovermode\":\"closest\",\"mapbox\":{\"style\":\"light\"},\"paper_bgcolor\":\"white\",\"plot_bgcolor\":\"#E5ECF6\",\"polar\":{\"angularaxis\":{\"gridcolor\":\"white\",\"linecolor\":\"white\",\"ticks\":\"\"},\"bgcolor\":\"#E5ECF6\",\"radialaxis\":{\"gridcolor\":\"white\",\"linecolor\":\"white\",\"ticks\":\"\"}},\"scene\":{\"xaxis\":{\"backgroundcolor\":\"#E5ECF6\",\"gridcolor\":\"white\",\"gridwidth\":2,\"linecolor\":\"white\",\"showbackground\":true,\"ticks\":\"\",\"zerolinecolor\":\"white\"},\"yaxis\":{\"backgroundcolor\":\"#E5ECF6\",\"gridcolor\":\"white\",\"gridwidth\":2,\"linecolor\":\"white\",\"showbackground\":true,\"ticks\":\"\",\"zerolinecolor\":\"white\"},\"zaxis\":{\"backgroundcolor\":\"#E5ECF6\",\"gridcolor\":\"white\",\"gridwidth\":2,\"linecolor\":\"white\",\"showbackground\":true,\"ticks\":\"\",\"zerolinecolor\":\"white\"}},\"shapedefaults\":{\"line\":{\"color\":\"#2a3f5f\"}},\"ternary\":{\"aaxis\":{\"gridcolor\":\"white\",\"linecolor\":\"white\",\"ticks\":\"\"},\"baxis\":{\"gridcolor\":\"white\",\"linecolor\":\"white\",\"ticks\":\"\"},\"bgcolor\":\"#E5ECF6\",\"caxis\":{\"gridcolor\":\"white\",\"linecolor\":\"white\",\"ticks\":\"\"}},\"title\":{\"x\":0.05},\"xaxis\":{\"automargin\":true,\"gridcolor\":\"white\",\"linecolor\":\"white\",\"ticks\":\"\",\"title\":{\"standoff\":15},\"zerolinecolor\":\"white\",\"zerolinewidth\":2},\"yaxis\":{\"automargin\":true,\"gridcolor\":\"white\",\"linecolor\":\"white\",\"ticks\":\"\",\"title\":{\"standoff\":15},\"zerolinecolor\":\"white\",\"zerolinewidth\":2}}}},                        {\"responsive\": true}                    ).then(function(){\n",
       "                            \n",
       "var gd = document.getElementById('9cc723c2-321c-41a1-848b-e31680528c76');\n",
       "var x = new MutationObserver(function (mutations, observer) {{\n",
       "        var display = window.getComputedStyle(gd).display;\n",
       "        if (!display || display === 'none') {{\n",
       "            console.log([gd, 'removed!']);\n",
       "            Plotly.purge(gd);\n",
       "            observer.disconnect();\n",
       "        }}\n",
       "}});\n",
       "\n",
       "// Listen for the removal of the full notebook cells\n",
       "var notebookContainer = gd.closest('#notebook-container');\n",
       "if (notebookContainer) {{\n",
       "    x.observe(notebookContainer, {childList: true});\n",
       "}}\n",
       "\n",
       "// Listen for the clearing of the current output cell\n",
       "var outputEl = gd.closest('.output');\n",
       "if (outputEl) {{\n",
       "    x.observe(outputEl, {childList: true});\n",
       "}}\n",
       "\n",
       "                        })                };                });            </script>        </div>"
      ]
     },
     "metadata": {},
     "output_type": "display_data"
    }
   ],
   "source": [
    "import plotly.figure_factory as ff\n",
    "credit_card_corr = credit_card.corr(method='spearman') # Generate correlation matrix for spearman correlation\n",
    "\n",
    "x = list(credit_card_corr.columns)\n",
    "y = list(credit_card_corr.index)\n",
    "z = np.array(credit_card_corr)\n",
    "\n",
    "fig = ff.create_annotated_heatmap(\n",
    "    z,\n",
    "    x = x,\n",
    "    y = y ,\n",
    "    annotation_text = np.around(z, decimals=2),\n",
    "    hoverinfo='z',\n",
    "    colorscale='Viridis'\n",
    "    )\n",
    "fig.show()"
   ]
  },
  {
   "cell_type": "code",
   "execution_count": null,
   "id": "8f2afe34",
   "metadata": {},
   "outputs": [],
   "source": [
    "#Here we can see strong correlation between Number of children and Family Size."
   ]
  },
  {
   "cell_type": "code",
   "execution_count": 26,
   "id": "b01c1ae7",
   "metadata": {},
   "outputs": [
    {
     "data": {
      "image/png": "[encoded data removed]",
      "text/plain": [
       "<Figure size 360x360 with 1 Axes>"
      ]
     },
     "metadata": {
      "needs_background": "light"
     },
     "output_type": "display_data"
    }
   ],
   "source": [
    "plt.figure(figsize=(5,5))\n",
    "sns.countplot(x='CODE_GENDER', data=credit_card,hue='LABEL')\n",
    "plt.title('Distribution of each gender')\n",
    "plt.show()"
   ]
  },
  {
   "cell_type": "code",
   "execution_count": null,
   "id": "1c029317",
   "metadata": {},
   "outputs": [],
   "source": [
    "#More females apply for credit cards than males "
   ]
  },
  {
   "cell_type": "code",
   "execution_count": 27,
   "id": "635b35cc",
   "metadata": {},
   "outputs": [
    {
     "data": {
      "image/png": "[encoded data removed]",
      "text/plain": [
       "<Figure size 360x360 with 1 Axes>"
      ]
     },
     "metadata": {
      "needs_background": "light"
     },
     "output_type": "display_data"
    }
   ],
   "source": [
    "plt.figure(figsize=(5,5))\n",
    "sns.countplot(x='FLAG_OWN_CAR', data=credit_card,hue='LABEL')\n",
    "plt.title('Distribution of Car Owner or Not')\n",
    "plt.show()"
   ]
  },
  {
   "cell_type": "code",
   "execution_count": null,
   "id": "813b5134",
   "metadata": {},
   "outputs": [],
   "source": [
    "#Most people who are car owners dont often apply for credit cards "
   ]
  },
  {
   "cell_type": "code",
   "execution_count": 28,
   "id": "b198ac94",
   "metadata": {},
   "outputs": [
    {
     "data": {
      "image/png": "[encoded data removed]",
      "text/plain": [
       "<Figure size 720x360 with 1 Axes>"
      ]
     },
     "metadata": {
      "needs_background": "light"
     },
     "output_type": "display_data"
    }
   ],
   "source": [
    "plt.figure(figsize=(10,5))\n",
    "sns.countplot(x='NAME_INCOME_TYPE', data=credit_card,hue='LABEL')\n",
    "plt.title('Distribution of Type Income')\n",
    "plt.show()"
   ]
  },
  {
   "cell_type": "code",
   "execution_count": 29,
   "id": "c51cc217",
   "metadata": {},
   "outputs": [
    {
     "data": {
      "image/png": "[encoded data removed]",
      "text/plain": [
       "<Figure size 720x360 with 1 Axes>"
      ]
     },
     "metadata": {
      "needs_background": "light"
     },
     "output_type": "display_data"
    }
   ],
   "source": [
    "plt.figure(figsize=(10,5))\n",
    "sns.countplot(x='NAME_EDUCATION_TYPE', data=credit_card,hue='LABEL')\n",
    "plt.title('Distribution of Type Income')\n",
    "plt.show()"
   ]
  },
  {
   "cell_type": "code",
   "execution_count": 30,
   "id": "f60d0e60",
   "metadata": {},
   "outputs": [
    {
     "data": {
      "image/png": "[encoded data removed]",
      "text/plain": [
       "<Figure size 720x360 with 1 Axes>"
      ]
     },
     "metadata": {
      "needs_background": "light"
     },
     "output_type": "display_data"
    }
   ],
   "source": [
    "plt.figure(figsize=(10,5))\n",
    "sns.countplot(x='NAME_FAMILY_STATUS', data=credit_card,hue='LABEL')\n",
    "plt.title('Distribution of Marital status')\n",
    "plt.show()"
   ]
  },
  {
   "cell_type": "code",
   "execution_count": 31,
   "id": "b4d81b45",
   "metadata": {},
   "outputs": [
    {
     "data": {
      "image/png": "[encoded data removed]",
      "text/plain": [
       "<Figure size 1440x720 with 1 Axes>"
      ]
     },
     "metadata": {
      "needs_background": "light"
     },
     "output_type": "display_data"
    }
   ],
   "source": [
    "plt.figure(figsize=(20,10))\n",
    "sns.countplot(x='NAME_HOUSING_TYPE', data=credit_card,hue='LABEL')\n",
    "plt.title('Distribution of each Housing type')\n",
    "plt.show()"
   ]
  },
  {
   "cell_type": "code",
   "execution_count": 32,
   "id": "25666e5b",
   "metadata": {},
   "outputs": [
    {
     "data": {
      "image/png": "[encoded data removed]",
      "text/plain": [
       "<Figure size 2160x720 with 1 Axes>"
      ]
     },
     "metadata": {
      "needs_background": "light"
     },
     "output_type": "display_data"
    }
   ],
   "source": [
    "plt.figure(figsize=(30,10))\n",
    "sns.countplot(x='OCCUPATION_TYPE', data=credit_card,hue='LABEL')\n",
    "plt.title('Distribution of Type of Occupation')\n",
    "plt.show()"
   ]
  },
  {
   "cell_type": "code",
   "execution_count": 64,
   "id": "538a926c",
   "metadata": {},
   "outputs": [
    {
     "data": {
      "image/png": "[encoded data removed]",
      "text/plain": [
       "<Figure size 2160x720 with 1 Axes>"
      ]
     },
     "metadata": {
      "needs_background": "light"
     },
     "output_type": "display_data"
    }
   ],
   "source": [
    "plt.figure(figsize=(30,10))\n",
    "sns.countplot(x='AGE', data=credit_card,hue='LABEL')\n",
    "plt.title('AMT_INCOME_TOTAL')\n",
    "plt.show()"
   ]
  },
  {
   "cell_type": "code",
   "execution_count": null,
   "id": "f9e6e769",
   "metadata": {},
   "outputs": [],
   "source": [
    "#Labourers are the highest credit card appliers"
   ]
  },
  {
   "cell_type": "code",
   "execution_count": null,
   "id": "489fd74d",
   "metadata": {},
   "outputs": [],
   "source": [
    "#DATA CLEANING "
   ]
  },
  {
   "cell_type": "code",
   "execution_count": 33,
   "id": "eaac120f",
   "metadata": {},
   "outputs": [],
   "source": [
    "credit_card.drop('OCCUPATION_TYPE',inplace=True,axis = 1)\n"
   ]
  },
  {
   "cell_type": "code",
   "execution_count": null,
   "id": "d28ca6e2",
   "metadata": {},
   "outputs": [],
   "source": [
    "#As overall missing values in Type_Occupation is more than 30% it is best to drop the feature\n",
    "\n"
   ]
  },
  {
   "cell_type": "code",
   "execution_count": 34,
   "id": "66194e61",
   "metadata": {},
   "outputs": [],
   "source": [
    "# Dealing with categorical values\n",
    "credit_card_1 = pd.get_dummies(credit_card,columns=['CODE_GENDER', 'FLAG_OWN_CAR', 'FLAG_OWN_REALTY','NAME_INCOME_TYPE','NAME_EDUCATION_TYPE','NAME_FAMILY_STATUS','NAME_HOUSING_TYPE'])"
   ]
  },
  {
   "cell_type": "code",
   "execution_count": 35,
   "id": "f479af99",
   "metadata": {},
   "outputs": [
    {
     "data": {
      "text/plain": [
       "Index(['CNT_CHILDREN', 'AMT_INCOME_TOTAL', 'FLAG_MOBIL', 'FLAG_WORK_PHONE',\n",
       "       'FLAG_PHONE', 'FLAG_EMAIL', 'CNT_FAM_MEMBERS', 'MONTHS_BALANCE', 'AGE',\n",
       "       'WORKTERM', 'LABEL', 'CODE_GENDER_F', 'CODE_GENDER_M', 'FLAG_OWN_CAR_N',\n",
       "       'FLAG_OWN_CAR_Y', 'FLAG_OWN_REALTY_N', 'FLAG_OWN_REALTY_Y',\n",
       "       'NAME_INCOME_TYPE_Commercial associate', 'NAME_INCOME_TYPE_Pensioner',\n",
       "       'NAME_INCOME_TYPE_State servant', 'NAME_INCOME_TYPE_Student',\n",
       "       'NAME_INCOME_TYPE_Working', 'NAME_EDUCATION_TYPE_Academic degree',\n",
       "       'NAME_EDUCATION_TYPE_Higher education',\n",
       "       'NAME_EDUCATION_TYPE_Incomplete higher',\n",
       "       'NAME_EDUCATION_TYPE_Lower secondary',\n",
       "       'NAME_EDUCATION_TYPE_Secondary / secondary special',\n",
       "       'NAME_FAMILY_STATUS_Civil marriage', 'NAME_FAMILY_STATUS_Married',\n",
       "       'NAME_FAMILY_STATUS_Separated',\n",
       "       'NAME_FAMILY_STATUS_Single / not married', 'NAME_FAMILY_STATUS_Widow',\n",
       "       'NAME_HOUSING_TYPE_Co-op apartment',\n",
       "       'NAME_HOUSING_TYPE_House / apartment',\n",
       "       'NAME_HOUSING_TYPE_Municipal apartment',\n",
       "       'NAME_HOUSING_TYPE_Office apartment',\n",
       "       'NAME_HOUSING_TYPE_Rented apartment', 'NAME_HOUSING_TYPE_With parents'],\n",
       "      dtype='object')"
      ]
     },
     "execution_count": 35,
     "metadata": {},
     "output_type": "execute_result"
    }
   ],
   "source": [
    "credit_card_1.columns"
   ]
  },
  {
   "cell_type": "code",
   "execution_count": 36,
   "id": "56834c72",
   "metadata": {},
   "outputs": [],
   "source": [
    "credit_card_1.drop(['CODE_GENDER_M','FLAG_OWN_CAR_Y','FLAG_OWN_REALTY_Y','NAME_INCOME_TYPE_Working','NAME_EDUCATION_TYPE_Secondary / secondary special',\n",
    "                   'NAME_FAMILY_STATUS_Widow','NAME_HOUSING_TYPE_With parents'],inplace=True,axis = 1)"
   ]
  },
  {
   "cell_type": "code",
   "execution_count": 37,
   "id": "b32309ac",
   "metadata": {},
   "outputs": [],
   "source": [
    "                                           #FEATURE SELECTION"
   ]
  },
  {
   "cell_type": "code",
   "execution_count": 38,
   "id": "37fb77ae",
   "metadata": {},
   "outputs": [],
   "source": [
    "from sklearn.feature_selection import SelectKBest\n",
    "from sklearn.feature_selection import f_classif\n",
    "data = credit_card_1\n",
    "X = credit_card_1.drop(['LABEL'],axis = 1)  #independent variable columns\n",
    "y = credit_card_1.LABEL    #target variable column (price range)"
   ]
  },
  {
   "cell_type": "code",
   "execution_count": 39,
   "id": "52c58d6c",
   "metadata": {},
   "outputs": [
    {
     "name": "stdout",
     "output_type": "stream",
     "text": [
      "                                      Specs       Score\n",
      "9                                  WORKTERM  109.886137\n",
      "13    NAME_INCOME_TYPE_Commercial associate   80.191562\n",
      "10                            CODE_GENDER_F   56.627564\n",
      "27    NAME_HOUSING_TYPE_Municipal apartment   52.761029\n",
      "21        NAME_FAMILY_STATUS_Civil marriage   50.736470\n",
      "20      NAME_EDUCATION_TYPE_Lower secondary   48.922410\n",
      "4                                FLAG_PHONE   44.809822\n",
      "24  NAME_FAMILY_STATUS_Single / not married   44.453703\n",
      "18     NAME_EDUCATION_TYPE_Higher education   39.690468\n",
      "15           NAME_INCOME_TYPE_State servant   38.766561\n",
      "3                           FLAG_WORK_PHONE   38.634140\n",
      "26      NAME_HOUSING_TYPE_House / apartment   34.515563\n",
      "25        NAME_HOUSING_TYPE_Co-op apartment   32.253156\n",
      "14               NAME_INCOME_TYPE_Pensioner   29.288921\n",
      "1                          AMT_INCOME_TOTAL   22.638200\n",
      "12                        FLAG_OWN_REALTY_N   16.162029\n",
      "22               NAME_FAMILY_STATUS_Married    9.462933\n",
      "19    NAME_EDUCATION_TYPE_Incomplete higher    6.642941\n",
      "28       NAME_HOUSING_TYPE_Office apartment    5.504351\n",
      "29       NAME_HOUSING_TYPE_Rented apartment    4.624058\n",
      "8                                       AGE    2.760387\n",
      "6                           CNT_FAM_MEMBERS    2.412261\n",
      "7                            MONTHS_BALANCE    2.366203\n",
      "23             NAME_FAMILY_STATUS_Separated    2.253763\n",
      "17      NAME_EDUCATION_TYPE_Academic degree    1.951916\n",
      "11                           FLAG_OWN_CAR_N    1.537794\n",
      "5                                FLAG_EMAIL    1.000875\n",
      "16                 NAME_INCOME_TYPE_Student    0.786968\n",
      "0                              CNT_CHILDREN    0.012655\n",
      "2                                FLAG_MOBIL         NaN\n"
     ]
    }
   ],
   "source": [
    "#extracting top 4 best features by applying SelectKBest class\n",
    "bestfeatures = SelectKBest(score_func=f_classif, k='all')\n",
    "fit = bestfeatures.fit(X,y)\n",
    "dfscores = pd.DataFrame(fit.scores_)\n",
    "dfcolumns = pd.DataFrame(X.columns)\n",
    " \n",
    "#concat two dataframes\n",
    "featureScores = pd.concat([dfcolumns,dfscores],axis=1)\n",
    "featureScores.columns = ['Specs','Score']  #naming the dataframe columns\n",
    "print(featureScores.nlargest(30,'Score'))  #printing 15 best features"
   ]
  },
  {
   "cell_type": "code",
   "execution_count": 42,
   "id": "5d77fb7d",
   "metadata": {},
   "outputs": [
    {
     "name": "stdout",
     "output_type": "stream",
     "text": [
      "<class 'pandas.core.frame.DataFrame'>\n",
      "Int64Index: 468925 entries, 5008804 to 5150337\n",
      "Data columns (total 31 columns):\n",
      " #   Column                                   Non-Null Count   Dtype   \n",
      "---  ------                                   --------------   -----   \n",
      " 0   CNT_CHILDREN                             468925 non-null  int64   \n",
      " 1   AMT_INCOME_TOTAL                         468925 non-null  float64 \n",
      " 2   FLAG_MOBIL                               468925 non-null  int64   \n",
      " 3   FLAG_WORK_PHONE                          468925 non-null  int64   \n",
      " 4   FLAG_PHONE                               468925 non-null  int64   \n",
      " 5   FLAG_EMAIL                               468925 non-null  int64   \n",
      " 6   CNT_FAM_MEMBERS                          468925 non-null  float64 \n",
      " 7   MONTHS_BALANCE                           468925 non-null  int64   \n",
      " 8   AGE                                      468925 non-null  int64   \n",
      " 9   WORKTERM                                 468925 non-null  int64   \n",
      " 10  LABEL                                    468925 non-null  category\n",
      " 11  CODE_GENDER_F                            468925 non-null  uint8   \n",
      " 12  FLAG_OWN_CAR_N                           468925 non-null  uint8   \n",
      " 13  FLAG_OWN_REALTY_N                        468925 non-null  uint8   \n",
      " 14  NAME_INCOME_TYPE_Commercial associate    468925 non-null  uint8   \n",
      " 15  NAME_INCOME_TYPE_Pensioner               468925 non-null  uint8   \n",
      " 16  NAME_INCOME_TYPE_State servant           468925 non-null  uint8   \n",
      " 17  NAME_INCOME_TYPE_Student                 468925 non-null  uint8   \n",
      " 18  NAME_EDUCATION_TYPE_Academic degree      468925 non-null  uint8   \n",
      " 19  NAME_EDUCATION_TYPE_Higher education     468925 non-null  uint8   \n",
      " 20  NAME_EDUCATION_TYPE_Incomplete higher    468925 non-null  uint8   \n",
      " 21  NAME_EDUCATION_TYPE_Lower secondary      468925 non-null  uint8   \n",
      " 22  NAME_FAMILY_STATUS_Civil marriage        468925 non-null  uint8   \n",
      " 23  NAME_FAMILY_STATUS_Married               468925 non-null  uint8   \n",
      " 24  NAME_FAMILY_STATUS_Separated             468925 non-null  uint8   \n",
      " 25  NAME_FAMILY_STATUS_Single / not married  468925 non-null  uint8   \n",
      " 26  NAME_HOUSING_TYPE_Co-op apartment        468925 non-null  uint8   \n",
      " 27  NAME_HOUSING_TYPE_House / apartment      468925 non-null  uint8   \n",
      " 28  NAME_HOUSING_TYPE_Municipal apartment    468925 non-null  uint8   \n",
      " 29  NAME_HOUSING_TYPE_Office apartment       468925 non-null  uint8   \n",
      " 30  NAME_HOUSING_TYPE_Rented apartment       468925 non-null  uint8   \n",
      "dtypes: category(1), float64(2), int64(8), uint8(20)\n",
      "memory usage: 48.7 MB\n"
     ]
    }
   ],
   "source": [
    "credit_card_1.info()\n"
   ]
  },
  {
   "cell_type": "code",
   "execution_count": null,
   "id": "369ccb5b",
   "metadata": {},
   "outputs": [],
   "source": [
    "       #Top Features are selected based on f_classif using sklearn feature_selection"
   ]
  },
  {
   "cell_type": "code",
   "execution_count": 43,
   "id": "84b0b9ef",
   "metadata": {},
   "outputs": [],
   "source": [
    "X = credit_card_1.drop(['FLAG_MOBIL','CNT_CHILDREN','FLAG_EMAIL','FLAG_OWN_CAR_N','MONTHS_BALANCE','CNT_FAM_MEMBERS','AGE','LABEL'],axis = 1)\n",
    "y = credit_card_1.LABEL"
   ]
  },
  {
   "cell_type": "code",
   "execution_count": null,
   "id": "ab9142c7",
   "metadata": {},
   "outputs": [],
   "source": [
    "                                 #Dealing with Imbalanced data"
   ]
  },
  {
   "cell_type": "code",
   "execution_count": 44,
   "id": "9440c164",
   "metadata": {},
   "outputs": [
    {
     "name": "stdout",
     "output_type": "stream",
     "text": [
      "The number of classes before fit Counter({0: 466377, 1: 2548})\n",
      "The number of classes after fit Counter({0: 2548, 1: 2548})\n"
     ]
    }
   ],
   "source": [
    "#Random under-sampling with imblearn\n",
    "\n",
    "rus = RandomUnderSampler(random_state=42, replacement=True)\n",
    "X_ns,y_ns=rus.fit_resample(X,y)\n",
    "print(\"The number of classes before fit {}\".format(Counter(y)))\n",
    "print(\"The number of classes after fit {}\".format(Counter(y_ns)))"
   ]
  },
  {
   "cell_type": "code",
   "execution_count": 45,
   "id": "d5a5dde6",
   "metadata": {},
   "outputs": [],
   "source": [
    "                                    #Splitting of data\n",
    "\n",
    "X_train, X_test, y_train, y_test = train_test_split(X_ns,y_ns,test_size=0.2, random_state=42)"
   ]
  },
  {
   "cell_type": "code",
   "execution_count": null,
   "id": "2b7ab8bd",
   "metadata": {},
   "outputs": [],
   "source": [
    "                                   #Feature Scaling\n"
   ]
  },
  {
   "cell_type": "code",
   "execution_count": 46,
   "id": "73719543",
   "metadata": {},
   "outputs": [
    {
     "data": {
      "text/plain": [
       "array([[-0.543015  ,  1.70747354,  1.43529093, ..., -0.22354919,\n",
       "        -0.10325715, -0.13122448],\n",
       "       [-0.89389521, -0.58566061, -0.69672286, ..., -0.22354919,\n",
       "        -0.10325715, -0.13122448],\n",
       "       [ 0.99208593, -0.58566061, -0.69672286, ..., -0.22354919,\n",
       "        -0.10325715, -0.13122448],\n",
       "       ...,\n",
       "       [ 0.33418553, -0.58566061, -0.69672286, ..., -0.22354919,\n",
       "        -0.10325715, -0.13122448],\n",
       "       [ 2.52718686, -0.58566061,  1.43529093, ..., -0.22354919,\n",
       "        -0.10325715, -0.13122448],\n",
       "       [-0.89389521, -0.58566061, -0.69672286, ..., -0.22354919,\n",
       "        -0.10325715, -0.13122448]])"
      ]
     },
     "execution_count": 46,
     "metadata": {},
     "output_type": "execute_result"
    }
   ],
   "source": [
    "sc = StandardScaler()\n",
    "X_train=sc.fit_transform(X_train)\n",
    "X_train"
   ]
  },
  {
   "cell_type": "code",
   "execution_count": 47,
   "id": "9d2cf6e4",
   "metadata": {},
   "outputs": [
    {
     "data": {
      "text/plain": [
       "array([[ 0.55348566, -0.58566061, -0.69672286, ..., -0.22354919,\n",
       "        -0.10325715, -0.13122448],\n",
       "       [-0.543015  , -0.58566061,  1.43529093, ..., -0.22354919,\n",
       "        -0.10325715, -0.13122448],\n",
       "       [-0.76231513, -0.58566061, -0.69672286, ..., -0.22354919,\n",
       "        -0.10325715, -0.13122448],\n",
       "       ...,\n",
       "       [ 5.15878845,  1.70747354,  1.43529093, ..., -0.22354919,\n",
       "        -0.10325715, -0.13122448],\n",
       "       [-0.76231513, -0.58566061, -0.69672286, ..., -0.22354919,\n",
       "        -0.10325715, -0.13122448],\n",
       "       [-0.98161526,  1.70747354,  1.43529093, ..., -0.22354919,\n",
       "        -0.10325715, -0.13122448]])"
      ]
     },
     "execution_count": 47,
     "metadata": {},
     "output_type": "execute_result"
    }
   ],
   "source": [
    "X_test=sc.transform(X_test)\n",
    "X_test"
   ]
  },
  {
   "cell_type": "code",
   "execution_count": 48,
   "id": "d09977b3",
   "metadata": {},
   "outputs": [
    {
     "data": {
      "text/plain": [
       "((4076, 23), (4076,))"
      ]
     },
     "execution_count": 48,
     "metadata": {},
     "output_type": "execute_result"
    }
   ],
   "source": [
    "## both will have same shape\n",
    "X_train.shape, y_train.shape"
   ]
  },
  {
   "cell_type": "code",
   "execution_count": null,
   "id": "f48536a4",
   "metadata": {},
   "outputs": [],
   "source": [
    "                              #LOGISTIC REGRESSION"
   ]
  },
  {
   "cell_type": "code",
   "execution_count": 49,
   "id": "fcdc17d3",
   "metadata": {},
   "outputs": [],
   "source": [
    "               # Creating a Logistic regression object\n",
    "logistic_reg=LogisticRegression(random_state = 0)"
   ]
  },
  {
   "cell_type": "code",
   "execution_count": 50,
   "id": "9b223258",
   "metadata": {},
   "outputs": [
    {
     "data": {
      "text/html": [
       "<style>#sk-container-id-1 {color: black;background-color: white;}#sk-container-id-1 pre{padding: 0;}#sk-container-id-1 div.sk-toggleable {background-color: white;}#sk-container-id-1 label.sk-toggleable__label {cursor: pointer;display: block;width: 100%;margin-bottom: 0;padding: 0.3em;box-sizing: border-box;text-align: center;}#sk-container-id-1 label.sk-toggleable__label-arrow:before {content: \"▸\";float: left;margin-right: 0.25em;color: #696969;}#sk-container-id-1 label.sk-toggleable__label-arrow:hover:before {color: black;}#sk-container-id-1 div.sk-estimator:hover label.sk-toggleable__label-arrow:before {color: black;}#sk-container-id-1 div.sk-toggleable__content {max-height: 0;max-width: 0;overflow: hidden;text-align: left;background-color: #f0f8ff;}#sk-container-id-1 div.sk-toggleable__content pre {margin: 0.2em;color: black;border-radius: 0.25em;background-color: #f0f8ff;}#sk-container-id-1 input.sk-toggleable__control:checked~div.sk-toggleable__content {max-height: 200px;max-width: 100%;overflow: auto;}#sk-container-id-1 input.sk-toggleable__control:checked~label.sk-toggleable__label-arrow:before {content: \"▾\";}#sk-container-id-1 div.sk-estimator input.sk-toggleable__control:checked~label.sk-toggleable__label {background-color: #d4ebff;}#sk-container-id-1 div.sk-label input.sk-toggleable__control:checked~label.sk-toggleable__label {background-color: #d4ebff;}#sk-container-id-1 input.sk-hidden--visually {border: 0;clip: rect(1px 1px 1px 1px);clip: rect(1px, 1px, 1px, 1px);height: 1px;margin: -1px;overflow: hidden;padding: 0;position: absolute;width: 1px;}#sk-container-id-1 div.sk-estimator {font-family: monospace;background-color: #f0f8ff;border: 1px dotted black;border-radius: 0.25em;box-sizing: border-box;margin-bottom: 0.5em;}#sk-container-id-1 div.sk-estimator:hover {background-color: #d4ebff;}#sk-container-id-1 div.sk-parallel-item::after {content: \"\";width: 100%;border-bottom: 1px solid gray;flex-grow: 1;}#sk-container-id-1 div.sk-label:hover label.sk-toggleable__label {background-color: #d4ebff;}#sk-container-id-1 div.sk-serial::before {content: \"\";position: absolute;border-left: 1px solid gray;box-sizing: border-box;top: 0;bottom: 0;left: 50%;z-index: 0;}#sk-container-id-1 div.sk-serial {display: flex;flex-direction: column;align-items: center;background-color: white;padding-right: 0.2em;padding-left: 0.2em;position: relative;}#sk-container-id-1 div.sk-item {position: relative;z-index: 1;}#sk-container-id-1 div.sk-parallel {display: flex;align-items: stretch;justify-content: center;background-color: white;position: relative;}#sk-container-id-1 div.sk-item::before, #sk-container-id-1 div.sk-parallel-item::before {content: \"\";position: absolute;border-left: 1px solid gray;box-sizing: border-box;top: 0;bottom: 0;left: 50%;z-index: -1;}#sk-container-id-1 div.sk-parallel-item {display: flex;flex-direction: column;z-index: 1;position: relative;background-color: white;}#sk-container-id-1 div.sk-parallel-item:first-child::after {align-self: flex-end;width: 50%;}#sk-container-id-1 div.sk-parallel-item:last-child::after {align-self: flex-start;width: 50%;}#sk-container-id-1 div.sk-parallel-item:only-child::after {width: 0;}#sk-container-id-1 div.sk-dashed-wrapped {border: 1px dashed gray;margin: 0 0.4em 0.5em 0.4em;box-sizing: border-box;padding-bottom: 0.4em;background-color: white;}#sk-container-id-1 div.sk-label label {font-family: monospace;font-weight: bold;display: inline-block;line-height: 1.2em;}#sk-container-id-1 div.sk-label-container {text-align: center;}#sk-container-id-1 div.sk-container {/* jupyter's `normalize.less` sets `[hidden] { display: none; }` but bootstrap.min.css set `[hidden] { display: none !important; }` so we also need the `!important` here to be able to override the default hidden behavior on the sphinx rendered scikit-learn.org. See: https://github.com/scikit-learn/scikit-learn/issues/21755 */display: inline-block !important;position: relative;}#sk-container-id-1 div.sk-text-repr-fallback {display: none;}</style><div id=\"sk-container-id-1\" class=\"sk-top-container\"><div class=\"sk-text-repr-fallback\"><pre>LogisticRegression(random_state=0)</pre><b>In a Jupyter environment, please rerun this cell to show the HTML representation or trust the notebook. <br />On GitHub, the HTML representation is unable to render, please try loading this page with nbviewer.org.</b></div><div class=\"sk-container\" hidden><div class=\"sk-item\"><div class=\"sk-estimator sk-toggleable\"><input class=\"sk-toggleable__control sk-hidden--visually\" id=\"sk-estimator-id-1\" type=\"checkbox\" checked><label for=\"sk-estimator-id-1\" class=\"sk-toggleable__label sk-toggleable__label-arrow\">LogisticRegression</label><div class=\"sk-toggleable__content\"><pre>LogisticRegression(random_state=0)</pre></div></div></div></div></div>"
      ],
      "text/plain": [
       "LogisticRegression(random_state=0)"
      ]
     },
     "execution_count": 50,
     "metadata": {},
     "output_type": "execute_result"
    }
   ],
   "source": [
    "      # Passing independant and dependant training data to the model\n",
    "logistic_reg.fit(X_train,y_train)"
   ]
  },
  {
   "cell_type": "code",
   "execution_count": 51,
   "id": "b77ec905",
   "metadata": {},
   "outputs": [
    {
     "data": {
      "text/plain": [
       "array([0, 1, 0, ..., 1, 1, 0], dtype=int64)"
      ]
     },
     "execution_count": 51,
     "metadata": {},
     "output_type": "execute_result"
    }
   ],
   "source": [
    "logistic_reg_pred=logistic_reg.predict(X_test)\n",
    "logistic_reg_pred"
   ]
  },
  {
   "cell_type": "code",
   "execution_count": 52,
   "id": "0b2364cb",
   "metadata": {},
   "outputs": [
    {
     "data": {
      "text/plain": [
       "array([[325, 201],\n",
       "       [197, 297]], dtype=int64)"
      ]
     },
     "execution_count": 52,
     "metadata": {},
     "output_type": "execute_result"
    }
   ],
   "source": [
    "confusion_mat=confusion_matrix(y_test, logistic_reg_pred)\n",
    "confusion_mat"
   ]
  },
  {
   "cell_type": "code",
   "execution_count": 53,
   "id": "c1fe88dd",
   "metadata": {},
   "outputs": [
    {
     "name": "stdout",
     "output_type": "stream",
     "text": [
      "              precision    recall  f1-score   support\n",
      "\n",
      "           0       0.62      0.62      0.62       526\n",
      "           1       0.60      0.60      0.60       494\n",
      "\n",
      "    accuracy                           0.61      1020\n",
      "   macro avg       0.61      0.61      0.61      1020\n",
      "weighted avg       0.61      0.61      0.61      1020\n",
      "\n"
     ]
    }
   ],
   "source": [
    "from sklearn.metrics import classification_report\n",
    "print(classification_report(y_test, logistic_reg_pred))"
   ]
  },
  {
   "cell_type": "code",
   "execution_count": 54,
   "id": "4d2cda07",
   "metadata": {},
   "outputs": [
    {
     "data": {
      "text/plain": [
       "0.6095426486661227"
      ]
     },
     "execution_count": 54,
     "metadata": {},
     "output_type": "execute_result"
    }
   ],
   "source": [
    "auc = metrics.roc_auc_score(y_test, logistic_reg_pred)\n",
    "auc"
   ]
  },
  {
   "cell_type": "code",
   "execution_count": 55,
   "id": "ff142d98",
   "metadata": {},
   "outputs": [
    {
     "data": {
      "image/png": "[encoded data removed]",
      "text/plain": [
       "<Figure size 1000x800 with 1 Axes>"
      ]
     },
     "metadata": {
      "needs_background": "light"
     },
     "output_type": "display_data"
    }
   ],
   "source": [
    "false_positive_rate, true_positive_rate, thresolds = metrics.roc_curve(y_test, logistic_reg_pred)\n",
    "\n",
    "plt.figure(figsize=(10, 8), dpi=100)\n",
    "plt.axis('scaled')\n",
    "plt.xlim([0, 1])\n",
    "plt.ylim([0, 1])\n",
    "plt.title(\"AUC & ROC Curve\")\n",
    "plt.plot(false_positive_rate, true_positive_rate, 'g')\n",
    "plt.fill_between(false_positive_rate, true_positive_rate, facecolor='lightgreen', alpha=0.7)\n",
    "plt.text(0.95, 0.05, 'AUC = %0.4f' % auc, ha='right', fontsize=12, weight='bold', color='blue')\n",
    "plt.xlabel(\"False Positive Rate\")\n",
    "plt.ylabel(\"True Positive Rate\")\n",
    "plt.show()"
   ]
  },
  {
   "cell_type": "code",
   "execution_count": null,
   "id": "79f42876",
   "metadata": {},
   "outputs": [],
   "source": [
    "                        #K-Nearest Neighbor(KNN) Algorithm"
   ]
  },
  {
   "cell_type": "code",
   "execution_count": 56,
   "id": "5cd21d7e",
   "metadata": {},
   "outputs": [
    {
     "data": {
      "text/html": [
       "<style>#sk-container-id-2 {color: black;background-color: white;}#sk-container-id-2 pre{padding: 0;}#sk-container-id-2 div.sk-toggleable {background-color: white;}#sk-container-id-2 label.sk-toggleable__label {cursor: pointer;display: block;width: 100%;margin-bottom: 0;padding: 0.3em;box-sizing: border-box;text-align: center;}#sk-container-id-2 label.sk-toggleable__label-arrow:before {content: \"▸\";float: left;margin-right: 0.25em;color: #696969;}#sk-container-id-2 label.sk-toggleable__label-arrow:hover:before {color: black;}#sk-container-id-2 div.sk-estimator:hover label.sk-toggleable__label-arrow:before {color: black;}#sk-container-id-2 div.sk-toggleable__content {max-height: 0;max-width: 0;overflow: hidden;text-align: left;background-color: #f0f8ff;}#sk-container-id-2 div.sk-toggleable__content pre {margin: 0.2em;color: black;border-radius: 0.25em;background-color: #f0f8ff;}#sk-container-id-2 input.sk-toggleable__control:checked~div.sk-toggleable__content {max-height: 200px;max-width: 100%;overflow: auto;}#sk-container-id-2 input.sk-toggleable__control:checked~label.sk-toggleable__label-arrow:before {content: \"▾\";}#sk-container-id-2 div.sk-estimator input.sk-toggleable__control:checked~label.sk-toggleable__label {background-color: #d4ebff;}#sk-container-id-2 div.sk-label input.sk-toggleable__control:checked~label.sk-toggleable__label {background-color: #d4ebff;}#sk-container-id-2 input.sk-hidden--visually {border: 0;clip: rect(1px 1px 1px 1px);clip: rect(1px, 1px, 1px, 1px);height: 1px;margin: -1px;overflow: hidden;padding: 0;position: absolute;width: 1px;}#sk-container-id-2 div.sk-estimator {font-family: monospace;background-color: #f0f8ff;border: 1px dotted black;border-radius: 0.25em;box-sizing: border-box;margin-bottom: 0.5em;}#sk-container-id-2 div.sk-estimator:hover {background-color: #d4ebff;}#sk-container-id-2 div.sk-parallel-item::after {content: \"\";width: 100%;border-bottom: 1px solid gray;flex-grow: 1;}#sk-container-id-2 div.sk-label:hover label.sk-toggleable__label {background-color: #d4ebff;}#sk-container-id-2 div.sk-serial::before {content: \"\";position: absolute;border-left: 1px solid gray;box-sizing: border-box;top: 0;bottom: 0;left: 50%;z-index: 0;}#sk-container-id-2 div.sk-serial {display: flex;flex-direction: column;align-items: center;background-color: white;padding-right: 0.2em;padding-left: 0.2em;position: relative;}#sk-container-id-2 div.sk-item {position: relative;z-index: 1;}#sk-container-id-2 div.sk-parallel {display: flex;align-items: stretch;justify-content: center;background-color: white;position: relative;}#sk-container-id-2 div.sk-item::before, #sk-container-id-2 div.sk-parallel-item::before {content: \"\";position: absolute;border-left: 1px solid gray;box-sizing: border-box;top: 0;bottom: 0;left: 50%;z-index: -1;}#sk-container-id-2 div.sk-parallel-item {display: flex;flex-direction: column;z-index: 1;position: relative;background-color: white;}#sk-container-id-2 div.sk-parallel-item:first-child::after {align-self: flex-end;width: 50%;}#sk-container-id-2 div.sk-parallel-item:last-child::after {align-self: flex-start;width: 50%;}#sk-container-id-2 div.sk-parallel-item:only-child::after {width: 0;}#sk-container-id-2 div.sk-dashed-wrapped {border: 1px dashed gray;margin: 0 0.4em 0.5em 0.4em;box-sizing: border-box;padding-bottom: 0.4em;background-color: white;}#sk-container-id-2 div.sk-label label {font-family: monospace;font-weight: bold;display: inline-block;line-height: 1.2em;}#sk-container-id-2 div.sk-label-container {text-align: center;}#sk-container-id-2 div.sk-container {/* jupyter's `normalize.less` sets `[hidden] { display: none; }` but bootstrap.min.css set `[hidden] { display: none !important; }` so we also need the `!important` here to be able to override the default hidden behavior on the sphinx rendered scikit-learn.org. See: https://github.com/scikit-learn/scikit-learn/issues/21755 */display: inline-block !important;position: relative;}#sk-container-id-2 div.sk-text-repr-fallback {display: none;}</style><div id=\"sk-container-id-2\" class=\"sk-top-container\"><div class=\"sk-text-repr-fallback\"><pre>KNeighborsClassifier()</pre><b>In a Jupyter environment, please rerun this cell to show the HTML representation or trust the notebook. <br />On GitHub, the HTML representation is unable to render, please try loading this page with nbviewer.org.</b></div><div class=\"sk-container\" hidden><div class=\"sk-item\"><div class=\"sk-estimator sk-toggleable\"><input class=\"sk-toggleable__control sk-hidden--visually\" id=\"sk-estimator-id-2\" type=\"checkbox\" checked><label for=\"sk-estimator-id-2\" class=\"sk-toggleable__label sk-toggleable__label-arrow\">KNeighborsClassifier</label><div class=\"sk-toggleable__content\"><pre>KNeighborsClassifier()</pre></div></div></div></div></div>"
      ],
      "text/plain": [
       "KNeighborsClassifier()"
      ]
     },
     "execution_count": 56,
     "metadata": {},
     "output_type": "execute_result"
    }
   ],
   "source": [
    "classifier= KNeighborsClassifier(n_neighbors=5, metric='minkowski', p=2 )  \n",
    "classifier.fit(X_train, y_train) "
   ]
  },
  {
   "cell_type": "code",
   "execution_count": 57,
   "id": "cd161d09",
   "metadata": {},
   "outputs": [],
   "source": [
    "#Predicting the test set result  \n",
    "y_pred= classifier.predict(X_test) "
   ]
  },
  {
   "cell_type": "code",
   "execution_count": 58,
   "id": "32e8d10a",
   "metadata": {},
   "outputs": [
    {
     "data": {
      "text/plain": [
       "array([0, 1, 1, ..., 0, 1, 1], dtype=int64)"
      ]
     },
     "execution_count": 58,
     "metadata": {},
     "output_type": "execute_result"
    }
   ],
   "source": [
    "y_pred\n"
   ]
  },
  {
   "cell_type": "code",
   "execution_count": 59,
   "id": "524f5f90",
   "metadata": {},
   "outputs": [
    {
     "name": "stdout",
     "output_type": "stream",
     "text": [
      "[[406 120]\n",
      " [ 58 436]]\n"
     ]
    }
   ],
   "source": [
    "cm= confusion_matrix(y_test, y_pred) \n",
    "print(cm)"
   ]
  },
  {
   "cell_type": "code",
   "execution_count": 60,
   "id": "90d10dbe",
   "metadata": {},
   "outputs": [
    {
     "name": "stdout",
     "output_type": "stream",
     "text": [
      "              precision    recall  f1-score   support\n",
      "\n",
      "           0       0.88      0.77      0.82       526\n",
      "           1       0.78      0.88      0.83       494\n",
      "\n",
      "    accuracy                           0.83      1020\n",
      "   macro avg       0.83      0.83      0.83      1020\n",
      "weighted avg       0.83      0.83      0.83      1020\n",
      "\n"
     ]
    }
   ],
   "source": [
    "print(classification_report(y_test, y_pred))"
   ]
  },
  {
   "cell_type": "code",
   "execution_count": null,
   "id": "15ed06e7",
   "metadata": {},
   "outputs": [],
   "source": []
  }
 ],
 "metadata": {
  "kernelspec": {
   "display_name": "Python 3 (ipykernel)",
   "language": "python",
   "name": "python3"
  },
  "language_info": {
   "codemirror_mode": {
    "name": "ipython",
    "version": 3
   },
   "file_extension": ".py",
   "mimetype": "text/x-python",
   "name": "python",
   "nbconvert_exporter": "python",
   "pygments_lexer": "ipython3",
   "version": "3.9.12"
  }
 },
 "nbformat": 4,
 "nbformat_minor": 5
}
